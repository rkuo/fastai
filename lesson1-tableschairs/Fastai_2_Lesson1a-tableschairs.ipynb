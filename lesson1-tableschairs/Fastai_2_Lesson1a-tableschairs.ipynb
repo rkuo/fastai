{
  "nbformat": 4,
  "nbformat_minor": 0,
  "metadata": {
    "colab": {
      "name": "Fastai-2-Lesson1a.ipynb",
      "version": "0.3.2",
      "views": {},
      "default_view": {},
      "provenance": [],
      "collapsed_sections": [],
      "toc_visible": true
    },
    "kernelspec": {
      "name": "python3",
      "display_name": "Python 3"
    }
  },
  "cells": [
    {
      "metadata": {
        "id": "tjLXeUDNmzWp",
        "colab_type": "text"
      },
      "cell_type": "markdown",
      "source": [
        "# fast.ai Lesson 1a"
      ]
    },
    {
      "metadata": {
        "id": "0muf0slsUg1B",
        "colab_type": "text"
      },
      "cell_type": "markdown",
      "source": [
        "## Additional Setup for Google Colab\n",
        "- Per instruction at [Fast.ai Lesson 1 on Google Colab (Free GPU)](https://towardsdatascience.com/fast-ai-lesson-1-on-google-colab-free-gpu-d2af89f53604)\n",
        "- also see [Fastest way to setup Fast.ai course notebooks , for free — using Google Colab and Clouderizer](https://medium.com/@prakash_31206/fastest-way-to-setup-fast-ai-course-notebooks-for-free-using-google-colab-gpu-and-clouderizer-c8a004e1d50d)\n",
        "- and see [discussion](http://forums.fast.ai/t/fast-ai-with-google-colab/18882)  \n",
        "\n",
        "We need to add this at beginning of each notebook."
      ]
    },
    {
      "metadata": {
        "id": "GEF1BMvq5fyZ",
        "colab_type": "code",
        "colab": {
          "autoexec": {
            "startup": false,
            "wait_interval": 0
          },
          "base_uri": "https://localhost:8080/",
          "height": 55
        },
        "outputId": "1250a18a-4494-4eeb-b219-f42615908c62",
        "executionInfo": {
          "status": "ok",
          "timestamp": 1531878612255,
          "user_tz": 420,
          "elapsed": 1766,
          "user": {
            "displayName": "Richard Kuo",
            "photoUrl": "//lh5.googleusercontent.com/-mCYqOH5oFtk/AAAAAAAAAAI/AAAAAAAAAy0/oPRMXjJYBdY/s50-c-k-no/photo.jpg",
            "userId": "100516856770490478928"
          }
        }
      },
      "cell_type": "code",
      "source": [
        "!git clone https://github.com/rkuo/fastai.git"
      ],
      "execution_count": 1,
      "outputs": [
        {
          "output_type": "stream",
          "text": [
            "fatal: destination path 'fastai' already exists and is not an empty directory.\r\n"
          ],
          "name": "stdout"
        }
      ]
    },
    {
      "metadata": {
        "id": "gX4qAYJLoBs8",
        "colab_type": "text"
      },
      "cell_type": "markdown",
      "source": [
        "###Installing Pytorch"
      ]
    },
    {
      "metadata": {
        "id": "h8vh2oaxFl6W",
        "colab_type": "code",
        "colab": {
          "autoexec": {
            "startup": false,
            "wait_interval": 0
          },
          "base_uri": "https://localhost:8080/",
          "height": 245
        },
        "outputId": "75335841-2e42-459b-e105-698061bdaf27",
        "executionInfo": {
          "status": "ok",
          "timestamp": 1531878616374,
          "user_tz": 420,
          "elapsed": 4094,
          "user": {
            "displayName": "Richard Kuo",
            "photoUrl": "//lh5.googleusercontent.com/-mCYqOH5oFtk/AAAAAAAAAAI/AAAAAAAAAy0/oPRMXjJYBdY/s50-c-k-no/photo.jpg",
            "userId": "100516856770490478928"
          }
        }
      },
      "cell_type": "code",
      "source": [
        "#!pip install http://download.pytorch.org/whl/cu80/torch-0.3.0.post4-cp36-cp36m-linux_x86_64.whl && pip install torchvision\n",
        "!pip install http://download.pytorch.org/whl/cu75/torch-0.3.0.post4-cp36-cp36m-linux_x86_64.whl  && pip install torchvision"
      ],
      "execution_count": 2,
      "outputs": [
        {
          "output_type": "stream",
          "text": [
            "Requirement already satisfied: torch==0.3.0.post4 from http://download.pytorch.org/whl/cu75/torch-0.3.0.post4-cp36-cp36m-linux_x86_64.whl in /usr/local/lib/python3.6/dist-packages (0.3.0.post4)\r\n",
            "Requirement already satisfied: pyyaml in /usr/local/lib/python3.6/dist-packages (from torch==0.3.0.post4) (3.13)\r\n",
            "Requirement already satisfied: numpy in /usr/local/lib/python3.6/dist-packages (from torch==0.3.0.post4) (1.14.5)\n",
            "\u001b[31mplotnine 0.3.0 has requirement scipy>=1.0.0, but you'll have scipy 0.19.1 which is incompatible.\u001b[0m\n",
            "Requirement already satisfied: torchvision in /usr/local/lib/python3.6/dist-packages (0.2.1)\n",
            "Requirement already satisfied: numpy in /usr/local/lib/python3.6/dist-packages (from torchvision) (1.14.5)\n",
            "Requirement already satisfied: pillow>=4.1.1 in /usr/local/lib/python3.6/dist-packages (from torchvision) (4.1.1)\n",
            "Requirement already satisfied: torch in /usr/local/lib/python3.6/dist-packages (from torchvision) (0.3.0.post4)\n",
            "Requirement already satisfied: six in /usr/local/lib/python3.6/dist-packages (from torchvision) (1.11.0)\n",
            "Requirement already satisfied: olefile in /usr/local/lib/python3.6/dist-packages (from pillow>=4.1.1->torchvision) (0.45.1)\n",
            "Requirement already satisfied: pyyaml in /usr/local/lib/python3.6/dist-packages (from torch->torchvision) (3.13)\n",
            "\u001b[31mplotnine 0.3.0 has requirement scipy>=1.0.0, but you'll have scipy 0.19.1 which is incompatible.\u001b[0m\n"
          ],
          "name": "stdout"
        }
      ]
    },
    {
      "metadata": {
        "id": "XNs7zY9APqfI",
        "colab_type": "text"
      },
      "cell_type": "markdown",
      "source": [
        "###Workaround for an issue with PIL"
      ]
    },
    {
      "metadata": {
        "id": "WzXDTztRKVut",
        "colab_type": "code",
        "colab": {
          "autoexec": {
            "startup": false,
            "wait_interval": 0
          },
          "base_uri": "https://localhost:8080/",
          "height": 245
        },
        "outputId": "fa819c45-a50d-488f-da0b-4515600734e3",
        "executionInfo": {
          "status": "ok",
          "timestamp": 1531878623414,
          "user_tz": 420,
          "elapsed": 7012,
          "user": {
            "displayName": "Richard Kuo",
            "photoUrl": "//lh5.googleusercontent.com/-mCYqOH5oFtk/AAAAAAAAAAI/AAAAAAAAAy0/oPRMXjJYBdY/s50-c-k-no/photo.jpg",
            "userId": "100516856770490478928"
          }
        }
      },
      "cell_type": "code",
      "source": [
        "!pip install Pillow==4.1.1\n",
        "!pip install PIL\n",
        "!pip install image"
      ],
      "execution_count": 3,
      "outputs": [
        {
          "output_type": "stream",
          "text": [
            "Requirement already satisfied: Pillow==4.1.1 in /usr/local/lib/python3.6/dist-packages (4.1.1)\r\n",
            "Requirement already satisfied: olefile in /usr/local/lib/python3.6/dist-packages (from Pillow==4.1.1) (0.45.1)\n",
            "\u001b[31mplotnine 0.3.0 has requirement scipy>=1.0.0, but you'll have scipy 0.19.1 which is incompatible.\u001b[0m\n",
            "Collecting PIL\n",
            "\u001b[31m  Could not find a version that satisfies the requirement PIL (from versions: )\u001b[0m\n",
            "\u001b[31mNo matching distribution found for PIL\u001b[0m\n",
            "Requirement already satisfied: image in /usr/local/lib/python3.6/dist-packages (1.5.24)\n",
            "Requirement already satisfied: pillow in /usr/local/lib/python3.6/dist-packages (from image) (4.1.1)\n",
            "Requirement already satisfied: django in /usr/local/lib/python3.6/dist-packages (from image) (2.0.7)\n",
            "Requirement already satisfied: olefile in /usr/local/lib/python3.6/dist-packages (from pillow->image) (0.45.1)\n",
            "Requirement already satisfied: pytz in /usr/local/lib/python3.6/dist-packages (from django->image) (2018.5)\n",
            "\u001b[31mplotnine 0.3.0 has requirement scipy>=1.0.0, but you'll have scipy 0.19.1 which is incompatible.\u001b[0m\n"
          ],
          "name": "stdout"
        }
      ]
    },
    {
      "metadata": {
        "id": "H7Y97zTktxOY",
        "colab_type": "text"
      },
      "cell_type": "markdown",
      "source": [
        "###Installing fastai"
      ]
    },
    {
      "metadata": {
        "id": "q3O_XGK3LJRW",
        "colab_type": "code",
        "colab": {
          "autoexec": {
            "startup": false,
            "wait_interval": 0
          },
          "base_uri": "https://localhost:8080/",
          "height": 1355
        },
        "outputId": "7bf4d275-99c2-4f2e-ec90-15d25699b6a7",
        "executionInfo": {
          "status": "ok",
          "timestamp": 1531878626474,
          "user_tz": 420,
          "elapsed": 3035,
          "user": {
            "displayName": "Richard Kuo",
            "photoUrl": "//lh5.googleusercontent.com/-mCYqOH5oFtk/AAAAAAAAAAI/AAAAAAAAAy0/oPRMXjJYBdY/s50-c-k-no/photo.jpg",
            "userId": "100516856770490478928"
          }
        }
      },
      "cell_type": "code",
      "source": [
        "!pip install fastai"
      ],
      "execution_count": 4,
      "outputs": [
        {
          "output_type": "stream",
          "text": [
            "Requirement already satisfied: fastai in /usr/local/lib/python3.6/dist-packages (0.7.0)\n",
            "Requirement already satisfied: python-dateutil in /usr/local/lib/python3.6/dist-packages (from fastai) (2.5.3)\n",
            "Requirement already satisfied: isoweek in /usr/local/lib/python3.6/dist-packages (from fastai) (1.3.3)\n",
            "Requirement already satisfied: tqdm in /usr/local/lib/python3.6/dist-packages (from fastai) (4.23.4)\n",
            "Requirement already satisfied: simplegeneric in /usr/local/lib/python3.6/dist-packages (from fastai) (0.8.1)\n",
            "Requirement already satisfied: testpath in /usr/local/lib/python3.6/dist-packages (from fastai) (0.3.1)\n",
            "Requirement already satisfied: feather-format in /usr/local/lib/python3.6/dist-packages (from fastai) (0.4.0)\n",
            "Requirement already satisfied: ipython in /usr/local/lib/python3.6/dist-packages (from fastai) (5.5.0)\n",
            "Requirement already satisfied: entrypoints in /usr/local/lib/python3.6/dist-packages (from fastai) (0.2.3)\n",
            "Requirement already satisfied: ptyprocess in /usr/local/lib/python3.6/dist-packages (from fastai) (0.6.0)\n",
            "Requirement already satisfied: bleach in /usr/local/lib/python3.6/dist-packages (from fastai) (2.1.3)\n",
            "Requirement already satisfied: traitlets in /usr/local/lib/python3.6/dist-packages (from fastai) (4.3.2)\n",
            "Requirement already satisfied: sklearn-pandas in /usr/local/lib/python3.6/dist-packages (from fastai) (1.6.0)\n",
            "Requirement already satisfied: webencodings in /usr/local/lib/python3.6/dist-packages (from fastai) (0.5.1)\n",
            "Requirement already satisfied: ipython-genutils in /usr/local/lib/python3.6/dist-packages (from fastai) (0.2.0)\n",
            "Requirement already satisfied: MarkupSafe in /usr/local/lib/python3.6/dist-packages (from fastai) (1.0)\n",
            "Requirement already satisfied: ipywidgets in /usr/local/lib/python3.6/dist-packages (from fastai) (7.2.1)\n",
            "Requirement already satisfied: pandas-summary in /usr/local/lib/python3.6/dist-packages (from fastai) (0.0.41)\n",
            "Requirement already satisfied: jupyter in /usr/local/lib/python3.6/dist-packages (from fastai) (1.0.0)\n",
            "Requirement already satisfied: seaborn in /usr/local/lib/python3.6/dist-packages (from fastai) (0.7.1)\n",
            "Requirement already satisfied: decorator in /usr/local/lib/python3.6/dist-packages (from fastai) (4.3.0)\n",
            "Requirement already satisfied: graphviz in /usr/local/lib/python3.6/dist-packages (from fastai) (0.8.4)\n",
            "Requirement already satisfied: matplotlib in /usr/local/lib/python3.6/dist-packages (from fastai) (2.1.2)\n",
            "Requirement already satisfied: torch<0.4 in /usr/local/lib/python3.6/dist-packages (from fastai) (0.3.0.post4)\n",
            "Requirement already satisfied: pandas in /usr/local/lib/python3.6/dist-packages (from fastai) (0.22.0)\n",
            "Requirement already satisfied: tornado in /usr/local/lib/python3.6/dist-packages (from fastai) (4.5.3)\n",
            "Requirement already satisfied: torchtext in /usr/local/lib/python3.6/dist-packages (from fastai) (0.2.3)\n",
            "Requirement already satisfied: scipy in /usr/local/lib/python3.6/dist-packages (from fastai) (0.19.1)\n",
            "Requirement already satisfied: bcolz in /usr/local/lib/python3.6/dist-packages (from fastai) (1.2.1)\n",
            "Requirement already satisfied: pytz in /usr/local/lib/python3.6/dist-packages (from fastai) (2018.5)\n",
            "Requirement already satisfied: PyYAML in /usr/local/lib/python3.6/dist-packages (from fastai) (3.13)\n",
            "Requirement already satisfied: pyzmq in /usr/local/lib/python3.6/dist-packages (from fastai) (16.0.4)\n",
            "Requirement already satisfied: numpy in /usr/local/lib/python3.6/dist-packages (from fastai) (1.14.5)\n",
            "Requirement already satisfied: wcwidth in /usr/local/lib/python3.6/dist-packages (from fastai) (0.1.7)\n",
            "Requirement already satisfied: Jinja2 in /usr/local/lib/python3.6/dist-packages (from fastai) (2.10)\n",
            "Requirement already satisfied: html5lib in /usr/local/lib/python3.6/dist-packages (from fastai) (1.0.1)\n",
            "Requirement already satisfied: Pygments in /usr/local/lib/python3.6/dist-packages (from fastai) (2.1.3)\n",
            "Requirement already satisfied: widgetsnbextension in /usr/local/lib/python3.6/dist-packages (from fastai) (3.2.1)\n",
            "Requirement already satisfied: certifi in /usr/local/lib/python3.6/dist-packages (from fastai) (2018.4.16)\n",
            "Requirement already satisfied: ipykernel in /usr/local/lib/python3.6/dist-packages (from fastai) (4.6.1)\n",
            "Requirement already satisfied: pickleshare in /usr/local/lib/python3.6/dist-packages (from fastai) (0.7.4)\n",
            "Requirement already satisfied: plotnine in /usr/local/lib/python3.6/dist-packages (from fastai) (0.3.0)\n",
            "Requirement already satisfied: cycler in /usr/local/lib/python3.6/dist-packages (from fastai) (0.10.0)\n",
            "Requirement already satisfied: jedi in /usr/local/lib/python3.6/dist-packages (from fastai) (0.12.1)\n",
            "Requirement already satisfied: opencv-python in /usr/local/lib/python3.6/dist-packages (from fastai) (3.4.1.15)\n",
            "Requirement already satisfied: Pillow in /usr/local/lib/python3.6/dist-packages (from fastai) (4.1.1)\n",
            "Requirement already satisfied: torchvision in /usr/local/lib/python3.6/dist-packages (from fastai) (0.2.1)\n",
            "Requirement already satisfied: jsonschema in /usr/local/lib/python3.6/dist-packages (from fastai) (2.6.0)\n",
            "Requirement already satisfied: pyparsing in /usr/local/lib/python3.6/dist-packages (from fastai) (2.2.0)\n",
            "Requirement already satisfied: six>=1.5 in /usr/local/lib/python3.6/dist-packages (from python-dateutil->fastai) (1.11.0)\n",
            "Requirement already satisfied: pyarrow>=0.4.0 in /usr/local/lib/python3.6/dist-packages (from feather-format->fastai) (0.9.0)\n",
            "Requirement already satisfied: prompt-toolkit<2.0.0,>=1.0.4 in /usr/local/lib/python3.6/dist-packages (from ipython->fastai) (1.0.15)\n",
            "Requirement already satisfied: pexpect; sys_platform != \"win32\" in /usr/local/lib/python3.6/dist-packages (from ipython->fastai) (4.6.0)\n",
            "Requirement already satisfied: setuptools>=18.5 in /usr/local/lib/python3.6/dist-packages (from ipython->fastai) (39.1.0)\n",
            "Requirement already satisfied: scikit-learn>=0.15.0 in /usr/local/lib/python3.6/dist-packages (from sklearn-pandas->fastai) (0.19.2)\n",
            "Requirement already satisfied: nbformat>=4.2.0 in /usr/local/lib/python3.6/dist-packages (from ipywidgets->fastai) (4.4.0)\n",
            "Requirement already satisfied: nbconvert in /usr/local/lib/python3.6/dist-packages (from jupyter->fastai) (5.3.1)\n",
            "Requirement already satisfied: notebook in /usr/local/lib/python3.6/dist-packages (from jupyter->fastai) (5.2.2)\n",
            "Requirement already satisfied: qtconsole in /usr/local/lib/python3.6/dist-packages (from jupyter->fastai) (4.3.1)\n",
            "Requirement already satisfied: jupyter-console in /usr/local/lib/python3.6/dist-packages (from jupyter->fastai) (5.2.0)\n",
            "Requirement already satisfied: requests in /usr/local/lib/python3.6/dist-packages (from torchtext->fastai) (2.18.4)\n",
            "Requirement already satisfied: jupyter-client in /usr/local/lib/python3.6/dist-packages (from ipykernel->fastai) (5.2.3)\n",
            "Requirement already satisfied: statsmodels>=0.8.0 in /usr/local/lib/python3.6/dist-packages (from plotnine->fastai) (0.8.0)\n",
            "Requirement already satisfied: patsy>=0.4.1 in /usr/local/lib/python3.6/dist-packages (from plotnine->fastai) (0.5.0)\n",
            "Requirement already satisfied: mizani>=0.4.1 in /usr/local/lib/python3.6/dist-packages (from plotnine->fastai) (0.4.6)\n",
            "Requirement already satisfied: parso>=0.3.0 in /usr/local/lib/python3.6/dist-packages (from jedi->fastai) (0.3.1)\n",
            "Requirement already satisfied: olefile in /usr/local/lib/python3.6/dist-packages (from Pillow->fastai) (0.45.1)\n",
            "Requirement already satisfied: jupyter-core in /usr/local/lib/python3.6/dist-packages (from nbformat>=4.2.0->ipywidgets->fastai) (4.4.0)\n",
            "Requirement already satisfied: pandocfilters>=1.4.1 in /usr/local/lib/python3.6/dist-packages (from nbconvert->jupyter->fastai) (1.4.2)\n",
            "Requirement already satisfied: mistune>=0.7.4 in /usr/local/lib/python3.6/dist-packages (from nbconvert->jupyter->fastai) (0.8.3)\n",
            "Requirement already satisfied: terminado>=0.3.3; sys_platform != \"win32\" in /usr/local/lib/python3.6/dist-packages (from notebook->jupyter->fastai) (0.8.1)\n",
            "Requirement already satisfied: urllib3<1.23,>=1.21.1 in /usr/local/lib/python3.6/dist-packages (from requests->torchtext->fastai) (1.22)\n",
            "Requirement already satisfied: chardet<3.1.0,>=3.0.2 in /usr/local/lib/python3.6/dist-packages (from requests->torchtext->fastai) (3.0.4)\n",
            "Requirement already satisfied: idna<2.7,>=2.5 in /usr/local/lib/python3.6/dist-packages (from requests->torchtext->fastai) (2.6)\n",
            "Requirement already satisfied: palettable in /usr/local/lib/python3.6/dist-packages (from mizani>=0.4.1->plotnine->fastai) (3.1.1)\n",
            "\u001b[31mplotnine 0.3.0 has requirement scipy>=1.0.0, but you'll have scipy 0.19.1 which is incompatible.\u001b[0m\n"
          ],
          "name": "stdout"
        }
      ]
    },
    {
      "metadata": {
        "id": "SBzhGAububOJ",
        "colab_type": "text"
      },
      "cell_type": "markdown",
      "source": [
        "###Installing libSM"
      ]
    },
    {
      "metadata": {
        "id": "SXTrf1d8uf7I",
        "colab_type": "text"
      },
      "cell_type": "markdown",
      "source": [
        "The import of fastai is will throw an error that this library is missing. So, Installing the same."
      ]
    },
    {
      "metadata": {
        "id": "e1fguoObMbDH",
        "colab_type": "code",
        "colab": {
          "autoexec": {
            "startup": false,
            "wait_interval": 0
          },
          "base_uri": "https://localhost:8080/",
          "height": 297
        },
        "outputId": "d8eea3b5-6ef9-4b3a-aa68-1ad0d94e1558",
        "executionInfo": {
          "status": "ok",
          "timestamp": 1531878632053,
          "user_tz": 420,
          "elapsed": 5558,
          "user": {
            "displayName": "Richard Kuo",
            "photoUrl": "//lh5.googleusercontent.com/-mCYqOH5oFtk/AAAAAAAAAAI/AAAAAAAAAy0/oPRMXjJYBdY/s50-c-k-no/photo.jpg",
            "userId": "100516856770490478928"
          }
        }
      },
      "cell_type": "code",
      "source": [
        "!apt update && apt install -y libsm6 libxext6"
      ],
      "execution_count": 5,
      "outputs": [
        {
          "output_type": "stream",
          "text": [
            "Get:1 http://security.ubuntu.com/ubuntu artful-security InRelease [83.2 kB]\n",
            "Hit:2 http://archive.ubuntu.com/ubuntu artful InRelease\n",
            "Get:3 http://archive.ubuntu.com/ubuntu artful-updates InRelease [88.7 kB]\n",
            "Get:4 http://archive.ubuntu.com/ubuntu artful-backports InRelease [74.6 kB]\n",
            "Fetched 247 kB in 1s (192 kB/s)\n",
            "Reading package lists... Done\n",
            "Building dependency tree       \n",
            "Reading state information... Done\n",
            "7 packages can be upgraded. Run 'apt list --upgradable' to see them.\n",
            "Reading package lists... Done\n",
            "Building dependency tree       \n",
            "Reading state information... Done\n",
            "libsm6 is already the newest version (2:1.2.2-1).\n",
            "libxext6 is already the newest version (2:1.3.3-1).\n",
            "0 upgraded, 0 newly installed, 0 to remove and 7 not upgraded.\n"
          ],
          "name": "stdout"
        }
      ]
    },
    {
      "metadata": {
        "id": "RlbuMLLl0LxD",
        "colab_type": "text"
      },
      "cell_type": "markdown",
      "source": [
        "### Miscellanious  \n"
      ]
    },
    {
      "metadata": {
        "id": "KU8GLQrj0Kkj",
        "colab_type": "text"
      },
      "cell_type": "markdown",
      "source": [
        "#### Short-Cut Keys\n",
        "- use tab key for code completion, and\n",
        "- shift-tab for arguement list,  ** problem** [work-around](https://github.com/googlecolab/colabtools/issues/22), use alt+/  and\n",
        "- hit shift-tab twice to get document of the function, and\n",
        "- hit shift-tab three time to get a separate window with document to pop-up or just type a question mark (?) in front of function, and ?? to cause the source code to display.\n",
        "- use ! at beginning of cell to execute bash command."
      ]
    },
    {
      "metadata": {
        "id": "7zDSYPZowBvf",
        "colab_type": "text"
      },
      "cell_type": "markdown",
      "source": [
        "#### Connect to local drive\n",
        "There are some `code snippets` (the tablet next to `Table of Contents`) can be copied to the notebook.\n",
        "- [Drive FUSE](https://colab.research.google.com/drive/1srw_HFWQ2SMgmWIawucXfusGzrj1_U0q)\n",
        "- [External Data](https://colab.research.google.com/notebooks/io.ipynb)\n",
        "- [work with fastai](http://forums.fast.ai/t/colaboratory-and-fastai/10122/7)\n",
        "- [How to Upload Your Own Dataset into Google Colab](https://mc.ai/how-to-upload-your-own-dataset-into-google-colab/) this the easist way."
      ]
    },
    {
      "metadata": {
        "id": "OtjPgYLVnXRv",
        "colab_type": "text"
      },
      "cell_type": "markdown",
      "source": [
        "### Download Dataset"
      ]
    },
    {
      "metadata": {
        "id": "7_yd6ymPMyYO",
        "colab_type": "code",
        "colab": {
          "autoexec": {
            "startup": false,
            "wait_interval": 0
          },
          "base_uri": "https://localhost:8080/",
          "height": 35
        },
        "outputId": "837830d9-ae04-4b34-89cc-5ad214acdf2e",
        "executionInfo": {
          "status": "ok",
          "timestamp": 1531878633528,
          "user_tz": 420,
          "elapsed": 1438,
          "user": {
            "displayName": "Richard Kuo",
            "photoUrl": "//lh5.googleusercontent.com/-mCYqOH5oFtk/AAAAAAAAAAI/AAAAAAAAAy0/oPRMXjJYBdY/s50-c-k-no/photo.jpg",
            "userId": "100516856770490478928"
          }
        }
      },
      "cell_type": "code",
      "source": [
        "# only need at the first time\n",
        "# !mkdir data && wget http://files.fast.ai/data/dogscats.zip && unzip dogscats.zip -d data/"
      ],
      "execution_count": 6,
      "outputs": [
        {
          "output_type": "stream",
          "text": [
            "mkdir: cannot create directory ‘data’: File exists\r\n"
          ],
          "name": "stdout"
        }
      ]
    },
    {
      "metadata": {
        "id": "Q8rOO_Ajg3AZ",
        "colab_type": "code",
        "colab": {
          "autoexec": {
            "startup": false,
            "wait_interval": 0
          },
          "base_uri": "https://localhost:8080/",
          "height": 35
        },
        "outputId": "7fcbaeb0-8484-4acc-9a21-4a0c1a5e7087",
        "executionInfo": {
          "status": "ok",
          "timestamp": 1531878634910,
          "user_tz": 420,
          "elapsed": 1364,
          "user": {
            "displayName": "Richard Kuo",
            "photoUrl": "//lh5.googleusercontent.com/-mCYqOH5oFtk/AAAAAAAAAAI/AAAAAAAAAy0/oPRMXjJYBdY/s50-c-k-no/photo.jpg",
            "userId": "100516856770490478928"
          }
        }
      },
      "cell_type": "code",
      "source": [
        "!ls data/tableschairs"
      ],
      "execution_count": 7,
      "outputs": [
        {
          "output_type": "stream",
          "text": [
            "models\ttmp  train  valid\r\n"
          ],
          "name": "stdout"
        }
      ]
    },
    {
      "metadata": {
        "id": "klsMUEzudm2A",
        "colab_type": "code",
        "colab": {
          "autoexec": {
            "startup": false,
            "wait_interval": 0
          },
          "base_uri": "https://localhost:8080/",
          "height": 35
        },
        "outputId": "1dfcb545-5cf1-4492-f3d3-ef3ca6e18fd9",
        "executionInfo": {
          "status": "ok",
          "timestamp": 1531878636370,
          "user_tz": 420,
          "elapsed": 1444,
          "user": {
            "displayName": "Richard Kuo",
            "photoUrl": "//lh5.googleusercontent.com/-mCYqOH5oFtk/AAAAAAAAAAI/AAAAAAAAAy0/oPRMXjJYBdY/s50-c-k-no/photo.jpg",
            "userId": "100516856770490478928"
          }
        }
      },
      "cell_type": "code",
      "source": [
        "!pwd"
      ],
      "execution_count": 8,
      "outputs": [
        {
          "output_type": "stream",
          "text": [
            "/content\r\n"
          ],
          "name": "stdout"
        }
      ]
    },
    {
      "metadata": {
        "id": "_TqUbkvOnUUu",
        "colab_type": "text"
      },
      "cell_type": "markdown",
      "source": [
        "## Image classification with Convolutional Neural Networks"
      ]
    },
    {
      "metadata": {
        "id": "zvc9hjiTnUUv",
        "colab_type": "text"
      },
      "cell_type": "markdown",
      "source": [
        "Welcome to the first week of the second deep learning certificate! We're going to use convolutional neural networks (CNNs) to allow our computer to see - something that is only possible thanks to deep learning."
      ]
    },
    {
      "metadata": {
        "id": "NuFB-u2Fm7ob",
        "colab_type": "code",
        "colab": {
          "autoexec": {
            "startup": false,
            "wait_interval": 0
          }
        }
      },
      "cell_type": "code",
      "source": [
        "import sys\n",
        "import os"
      ],
      "execution_count": 0,
      "outputs": []
    },
    {
      "metadata": {
        "id": "E8lvpFF4Nhus",
        "colab_type": "code",
        "colab": {
          "autoexec": {
            "startup": false,
            "wait_interval": 0
          }
        }
      },
      "cell_type": "code",
      "source": [
        "# Put these at the top of every notebook, to get automatic reloading and inline plotting\n",
        "from matplotlib import pyplot as plt\n",
        "%reload_ext autoreload\n",
        "%autoreload 2\n",
        "%matplotlib inline"
      ],
      "execution_count": 0,
      "outputs": []
    },
    {
      "metadata": {
        "id": "rFqhbLmPRSvH",
        "colab_type": "code",
        "colab": {
          "autoexec": {
            "startup": false,
            "wait_interval": 0
          }
        }
      },
      "cell_type": "code",
      "source": [
        "# This file contains all the main external libs we'll use\n",
        "from fastai.imports import *"
      ],
      "execution_count": 0,
      "outputs": []
    },
    {
      "metadata": {
        "id": "kwDwNAmXRVtC",
        "colab_type": "code",
        "colab": {
          "autoexec": {
            "startup": false,
            "wait_interval": 0
          }
        }
      },
      "cell_type": "code",
      "source": [
        "from fastai.transforms import *\n",
        "from fastai.conv_learner import *\n",
        "from fastai.model import *\n",
        "from fastai.dataset import *\n",
        "from fastai.sgdr import *\n",
        "from fastai.plots import *"
      ],
      "execution_count": 0,
      "outputs": []
    },
    {
      "metadata": {
        "id": "29bTSRTK2m2Q",
        "colab_type": "text"
      },
      "cell_type": "markdown",
      "source": [
        "## Model"
      ]
    },
    {
      "metadata": {
        "id": "TGv4eHBeidUv",
        "colab_type": "text"
      },
      "cell_type": "markdown",
      "source": [
        "### Find out what we have"
      ]
    },
    {
      "metadata": {
        "id": "aVDmSiHgjQV4",
        "colab_type": "text"
      },
      "cell_type": "markdown",
      "source": [
        "Find out whether we have GPU available. NVida's GPU library is `cuda`. "
      ]
    },
    {
      "metadata": {
        "id": "tU5pxKckjAUz",
        "colab_type": "code",
        "colab": {
          "autoexec": {
            "startup": false,
            "wait_interval": 0
          },
          "base_uri": "https://localhost:8080/",
          "height": 35
        },
        "outputId": "4f4f89e5-a12b-49b5-bf40-b74fb41ce790",
        "executionInfo": {
          "status": "ok",
          "timestamp": 1531878640163,
          "user_tz": 420,
          "elapsed": 533,
          "user": {
            "displayName": "Richard Kuo",
            "photoUrl": "//lh5.googleusercontent.com/-mCYqOH5oFtk/AAAAAAAAAAI/AAAAAAAAAy0/oPRMXjJYBdY/s50-c-k-no/photo.jpg",
            "userId": "100516856770490478928"
          }
        }
      },
      "cell_type": "code",
      "source": [
        "torch.cuda.is_available()"
      ],
      "execution_count": 13,
      "outputs": [
        {
          "output_type": "execute_result",
          "data": {
            "text/plain": [
              "False"
            ]
          },
          "metadata": {
            "tags": []
          },
          "execution_count": 13
        }
      ]
    },
    {
      "metadata": {
        "id": "Ug-9hVvgj4Rg",
        "colab_type": "text"
      },
      "cell_type": "markdown",
      "source": [
        "In addition, NVidia provides special accelerated functions for deep learning in a package called CuDNN. Although not strictly necessary, it will improve training performance significantly, and is included by default in all supported fastai configurations. Therefore, if the following does not return True, you may want to look into why."
      ]
    },
    {
      "metadata": {
        "id": "tt44JUHKsk0I",
        "colab_type": "code",
        "colab": {
          "autoexec": {
            "startup": false,
            "wait_interval": 0
          },
          "base_uri": "https://localhost:8080/",
          "height": 35
        },
        "outputId": "be2fefff-e3f1-4866-a766-e4a7818e7654",
        "executionInfo": {
          "status": "ok",
          "timestamp": 1531878641085,
          "user_tz": 420,
          "elapsed": 684,
          "user": {
            "displayName": "Richard Kuo",
            "photoUrl": "//lh5.googleusercontent.com/-mCYqOH5oFtk/AAAAAAAAAAI/AAAAAAAAAy0/oPRMXjJYBdY/s50-c-k-no/photo.jpg",
            "userId": "100516856770490478928"
          }
        }
      },
      "cell_type": "code",
      "source": [
        "torch.backends.cudnn.enabled"
      ],
      "execution_count": 14,
      "outputs": [
        {
          "output_type": "execute_result",
          "data": {
            "text/plain": [
              "True"
            ]
          },
          "metadata": {
            "tags": []
          },
          "execution_count": 14
        }
      ]
    },
    {
      "metadata": {
        "id": "l4NFBaqqoPGV",
        "colab_type": "text"
      },
      "cell_type": "markdown",
      "source": [
        "### First take a look of the data"
      ]
    },
    {
      "metadata": {
        "id": "yxei60aikWPB",
        "colab_type": "code",
        "colab": {
          "autoexec": {
            "startup": false,
            "wait_interval": 0
          },
          "base_uri": "https://localhost:8080/",
          "height": 35
        },
        "outputId": "9c3649dc-de97-4824-a5b4-47cde961ef96",
        "executionInfo": {
          "status": "ok",
          "timestamp": 1531878642772,
          "user_tz": 420,
          "elapsed": 1435,
          "user": {
            "displayName": "Richard Kuo",
            "photoUrl": "//lh5.googleusercontent.com/-mCYqOH5oFtk/AAAAAAAAAAI/AAAAAAAAAy0/oPRMXjJYBdY/s50-c-k-no/photo.jpg",
            "userId": "100516856770490478928"
          }
        }
      },
      "cell_type": "code",
      "source": [
        "#find out current location\n",
        "!pwd"
      ],
      "execution_count": 15,
      "outputs": [
        {
          "output_type": "stream",
          "text": [
            "/content\r\n"
          ],
          "name": "stdout"
        }
      ]
    },
    {
      "metadata": {
        "id": "_J2yUka_R9Sl",
        "colab_type": "code",
        "colab": {
          "autoexec": {
            "startup": false,
            "wait_interval": 0
          }
        }
      },
      "cell_type": "code",
      "source": [
        "# we know where is data\n",
        "PATH = \"data/tableschairs/\""
      ],
      "execution_count": 0,
      "outputs": []
    },
    {
      "metadata": {
        "id": "nyU2DhMdSFQB",
        "colab_type": "code",
        "colab": {
          "autoexec": {
            "startup": false,
            "wait_interval": 0
          }
        }
      },
      "cell_type": "code",
      "source": [
        "sz=224"
      ],
      "execution_count": 0,
      "outputs": []
    },
    {
      "metadata": {
        "id": "bVabflM9ScpW",
        "colab_type": "code",
        "colab": {
          "autoexec": {
            "startup": false,
            "wait_interval": 0
          },
          "base_uri": "https://localhost:8080/",
          "height": 35
        },
        "outputId": "25396226-fbb0-4399-dbf0-ef66f23a9ba6",
        "executionInfo": {
          "status": "ok",
          "timestamp": 1531878646131,
          "user_tz": 420,
          "elapsed": 1427,
          "user": {
            "displayName": "Richard Kuo",
            "photoUrl": "//lh5.googleusercontent.com/-mCYqOH5oFtk/AAAAAAAAAAI/AAAAAAAAAy0/oPRMXjJYBdY/s50-c-k-no/photo.jpg",
            "userId": "100516856770490478928"
          }
        }
      },
      "cell_type": "code",
      "source": [
        "!ls {PATH}"
      ],
      "execution_count": 18,
      "outputs": [
        {
          "output_type": "stream",
          "text": [
            "models\ttmp  train  valid\r\n"
          ],
          "name": "stdout"
        }
      ]
    },
    {
      "metadata": {
        "id": "sSNbH1fieYcc",
        "colab_type": "text"
      },
      "cell_type": "markdown",
      "source": [
        "We can also get the sub-directory via os library, it returns an array."
      ]
    },
    {
      "metadata": {
        "id": "PBc8dktbnSnD",
        "colab_type": "code",
        "colab": {
          "autoexec": {
            "startup": false,
            "wait_interval": 0
          },
          "base_uri": "https://localhost:8080/",
          "height": 52
        },
        "outputId": "6b15864e-e610-4589-f8d2-af12db9523ab",
        "executionInfo": {
          "status": "ok",
          "timestamp": 1531878646664,
          "user_tz": 420,
          "elapsed": 490,
          "user": {
            "displayName": "Richard Kuo",
            "photoUrl": "//lh5.googleusercontent.com/-mCYqOH5oFtk/AAAAAAAAAAI/AAAAAAAAAy0/oPRMXjJYBdY/s50-c-k-no/photo.jpg",
            "userId": "100516856770490478928"
          }
        }
      },
      "cell_type": "code",
      "source": [
        "subdir = os.listdir(PATH)\n",
        "print(subdir)\n",
        "type(subdir)"
      ],
      "execution_count": 19,
      "outputs": [
        {
          "output_type": "stream",
          "text": [
            "['train', 'models', 'tmp', 'valid']\n"
          ],
          "name": "stdout"
        },
        {
          "output_type": "execute_result",
          "data": {
            "text/plain": [
              "list"
            ]
          },
          "metadata": {
            "tags": []
          },
          "execution_count": 19
        }
      ]
    },
    {
      "metadata": {
        "id": "YX0PmFzgtpB2",
        "colab_type": "code",
        "colab": {
          "autoexec": {
            "startup": false,
            "wait_interval": 0
          },
          "base_uri": "https://localhost:8080/",
          "height": 35
        },
        "outputId": "8dae1bf0-166e-4a58-b3af-838d32afd316",
        "executionInfo": {
          "status": "ok",
          "timestamp": 1531878647363,
          "user_tz": 420,
          "elapsed": 481,
          "user": {
            "displayName": "Richard Kuo",
            "photoUrl": "//lh5.googleusercontent.com/-mCYqOH5oFtk/AAAAAAAAAAI/AAAAAAAAAy0/oPRMXjJYBdY/s50-c-k-no/photo.jpg",
            "userId": "100516856770490478928"
          }
        }
      },
      "cell_type": "code",
      "source": [
        "os.listdir(f'{PATH}valid')"
      ],
      "execution_count": 20,
      "outputs": [
        {
          "output_type": "execute_result",
          "data": {
            "text/plain": [
              "['chairs', 'tables']"
            ]
          },
          "metadata": {
            "tags": []
          },
          "execution_count": 20
        }
      ]
    },
    {
      "metadata": {
        "id": "NfidIcFRqChx",
        "colab_type": "code",
        "colab": {
          "autoexec": {
            "startup": false,
            "wait_interval": 0
          },
          "base_uri": "https://localhost:8080/",
          "height": 35
        },
        "outputId": "9ba525c2-6317-4a71-b1cf-8829944011c2",
        "executionInfo": {
          "status": "ok",
          "timestamp": 1531878648008,
          "user_tz": 420,
          "elapsed": 449,
          "user": {
            "displayName": "Richard Kuo",
            "photoUrl": "//lh5.googleusercontent.com/-mCYqOH5oFtk/AAAAAAAAAAI/AAAAAAAAAy0/oPRMXjJYBdY/s50-c-k-no/photo.jpg",
            "userId": "100516856770490478928"
          }
        }
      },
      "cell_type": "code",
      "source": [
        "listOfTablePics = os.listdir(f'{PATH}valid/tables')\n",
        "len(listOfTablePics)"
      ],
      "execution_count": 21,
      "outputs": [
        {
          "output_type": "execute_result",
          "data": {
            "text/plain": [
              "3"
            ]
          },
          "metadata": {
            "tags": []
          },
          "execution_count": 21
        }
      ]
    },
    {
      "metadata": {
        "id": "0aP_d_HkZXK1",
        "colab_type": "text"
      },
      "cell_type": "markdown",
      "source": [
        "There is 1000 of dog pictures in the directory."
      ]
    },
    {
      "metadata": {
        "id": "YAoN0QgrUBzS",
        "colab_type": "code",
        "colab": {
          "autoexec": {
            "startup": false,
            "wait_interval": 0
          },
          "base_uri": "https://localhost:8080/",
          "height": 35
        },
        "outputId": "1b2799db-895d-48c4-a01d-dd23e36c6ede",
        "executionInfo": {
          "status": "ok",
          "timestamp": 1531878648741,
          "user_tz": 420,
          "elapsed": 531,
          "user": {
            "displayName": "Richard Kuo",
            "photoUrl": "//lh5.googleusercontent.com/-mCYqOH5oFtk/AAAAAAAAAAI/AAAAAAAAAy0/oPRMXjJYBdY/s50-c-k-no/photo.jpg",
            "userId": "100516856770490478928"
          }
        }
      },
      "cell_type": "code",
      "source": [
        "files = os.listdir(f'{PATH}valid/tables')[0:3]\n",
        "files"
      ],
      "execution_count": 22,
      "outputs": [
        {
          "output_type": "execute_result",
          "data": {
            "text/plain": [
              "['table3.jpeg', 'table1.jpeg', 'table2.jpeg']"
            ]
          },
          "metadata": {
            "tags": []
          },
          "execution_count": 22
        }
      ]
    },
    {
      "metadata": {
        "id": "RMzy4paeVew6",
        "colab_type": "code",
        "colab": {
          "autoexec": {
            "startup": false,
            "wait_interval": 0
          },
          "base_uri": "https://localhost:8080/",
          "height": 185
        },
        "outputId": "38ba10fd-7def-4c33-a2ec-f011874ff1e1",
        "executionInfo": {
          "status": "ok",
          "timestamp": 1531878649824,
          "user_tz": 420,
          "elapsed": 666,
          "user": {
            "displayName": "Richard Kuo",
            "photoUrl": "//lh5.googleusercontent.com/-mCYqOH5oFtk/AAAAAAAAAAI/AAAAAAAAAy0/oPRMXjJYBdY/s50-c-k-no/photo.jpg",
            "userId": "100516856770490478928"
          }
        }
      },
      "cell_type": "code",
      "source": [
        "for i in range(0, 2): \n",
        "  plt.subplot(1, 3, i+1)\n",
        "  img = plt.imread(f'{PATH}valid/tables/{files[i]}')  # this requires pyplot\n",
        "  print(img.shape)\n",
        "  plt.imshow(img)"
      ],
      "execution_count": 23,
      "outputs": [
        {
          "output_type": "stream",
          "text": [
            "(194, 259, 3)\n",
            "(225, 225, 3)\n"
          ],
          "name": "stdout"
        },
        {
          "output_type": "display_data",
          "data": {
            "image/png": "[encoded data removed]",
            "text/plain": [
              "<matplotlib.figure.Figure at 0x7fa361a612e8>"
            ]
          },
          "metadata": {
            "tags": []
          }
        }
      ]
    },
    {
      "metadata": {
        "id": "uP9CWHy_Jpri",
        "colab_type": "text"
      },
      "cell_type": "markdown",
      "source": [
        "Images are not the same shape."
      ]
    },
    {
      "metadata": {
        "id": "27X3VWK_YeMY",
        "colab_type": "code",
        "colab": {
          "autoexec": {
            "startup": false,
            "wait_interval": 0
          },
          "base_uri": "https://localhost:8080/",
          "height": 35
        },
        "outputId": "f19c0420-00ce-4813-f9de-94017e53ff41",
        "executionInfo": {
          "status": "ok",
          "timestamp": 1531878650484,
          "user_tz": 420,
          "elapsed": 430,
          "user": {
            "displayName": "Richard Kuo",
            "photoUrl": "//lh5.googleusercontent.com/-mCYqOH5oFtk/AAAAAAAAAAI/AAAAAAAAAy0/oPRMXjJYBdY/s50-c-k-no/photo.jpg",
            "userId": "100516856770490478928"
          }
        }
      },
      "cell_type": "code",
      "source": [
        "# try this with \"head\" and \"tail\"\n",
        "imgFiles = !ls {PATH}valid/tables | head\n",
        "imgFiles"
      ],
      "execution_count": 24,
      "outputs": [
        {
          "output_type": "execute_result",
          "data": {
            "text/plain": [
              "['table1.jpeg', 'table2.jpeg', 'table3.jpeg']"
            ]
          },
          "metadata": {
            "tags": []
          },
          "execution_count": 24
        }
      ]
    },
    {
      "metadata": {
        "id": "28Z3g2zNiXET",
        "colab_type": "code",
        "colab": {
          "autoexec": {
            "startup": false,
            "wait_interval": 0
          },
          "base_uri": "https://localhost:8080/",
          "height": 304
        },
        "outputId": "eeb4e412-1b2d-4bdb-e3d9-bbd7c1a3ed00",
        "executionInfo": {
          "status": "ok",
          "timestamp": 1531878651468,
          "user_tz": 420,
          "elapsed": 764,
          "user": {
            "displayName": "Richard Kuo",
            "photoUrl": "//lh5.googleusercontent.com/-mCYqOH5oFtk/AAAAAAAAAAI/AAAAAAAAAy0/oPRMXjJYBdY/s50-c-k-no/photo.jpg",
            "userId": "100516856770490478928"
          }
        }
      },
      "cell_type": "code",
      "source": [
        "print(f'{PATH}valid/tables/{files[0]}')\n",
        "plt.imshow(plt.imread(f'{PATH}valid/tables/{imgFiles[0]}'))"
      ],
      "execution_count": 25,
      "outputs": [
        {
          "output_type": "stream",
          "text": [
            "data/tableschairs/valid/tables/table3.jpeg\n"
          ],
          "name": "stdout"
        },
        {
          "output_type": "execute_result",
          "data": {
            "text/plain": [
              "<matplotlib.image.AxesImage at 0x7fa35f89f128>"
            ]
          },
          "metadata": {
            "tags": []
          },
          "execution_count": 25
        },
        {
          "output_type": "display_data",
          "data": {
            "image/png": "[encoded data removed]",
            "text/plain": [
              "<matplotlib.figure.Figure at 0x7fa361a61198>"
            ]
          },
          "metadata": {
            "tags": []
          }
        }
      ]
    },
    {
      "metadata": {
        "id": "82KeYUDEOSKF",
        "colab_type": "code",
        "colab": {
          "autoexec": {
            "startup": false,
            "wait_interval": 0
          },
          "base_uri": "https://localhost:8080/",
          "height": 35
        },
        "outputId": "756073d0-ded0-49ae-ef84-d9198a953112",
        "executionInfo": {
          "status": "ok",
          "timestamp": 1531878652100,
          "user_tz": 420,
          "elapsed": 396,
          "user": {
            "displayName": "Richard Kuo",
            "photoUrl": "//lh5.googleusercontent.com/-mCYqOH5oFtk/AAAAAAAAAAI/AAAAAAAAAy0/oPRMXjJYBdY/s50-c-k-no/photo.jpg",
            "userId": "100516856770490478928"
          }
        }
      },
      "cell_type": "code",
      "source": [
        "img.shape"
      ],
      "execution_count": 26,
      "outputs": [
        {
          "output_type": "execute_result",
          "data": {
            "text/plain": [
              "(225, 225, 3)"
            ]
          },
          "metadata": {
            "tags": []
          },
          "execution_count": 26
        }
      ]
    },
    {
      "metadata": {
        "id": "twCa2dlCLUMo",
        "colab_type": "code",
        "colab": {
          "autoexec": {
            "startup": false,
            "wait_interval": 0
          },
          "base_uri": "https://localhost:8080/",
          "height": 104
        },
        "outputId": "0b83b30d-caf7-4705-86e9-9c20884efdc2",
        "executionInfo": {
          "status": "ok",
          "timestamp": 1531878652733,
          "user_tz": 420,
          "elapsed": 426,
          "user": {
            "displayName": "Richard Kuo",
            "photoUrl": "//lh5.googleusercontent.com/-mCYqOH5oFtk/AAAAAAAAAAI/AAAAAAAAAy0/oPRMXjJYBdY/s50-c-k-no/photo.jpg",
            "userId": "100516856770490478928"
          }
        }
      },
      "cell_type": "code",
      "source": [
        "img[:2,:2]"
      ],
      "execution_count": 27,
      "outputs": [
        {
          "output_type": "execute_result",
          "data": {
            "text/plain": [
              "array([[[255, 255, 255],\n",
              "        [255, 255, 255]],\n",
              "\n",
              "       [[255, 255, 255],\n",
              "        [255, 255, 255]]], dtype=uint8)"
            ]
          },
          "metadata": {
            "tags": []
          },
          "execution_count": 27
        }
      ]
    },
    {
      "metadata": {
        "id": "pDY_sWo6dxUg",
        "colab_type": "code",
        "colab": {
          "autoexec": {
            "startup": false,
            "wait_interval": 0
          }
        }
      },
      "cell_type": "code",
      "source": [
        "# we know where is data\n",
        "PATH = \"data/tableschairs/\""
      ],
      "execution_count": 0,
      "outputs": []
    },
    {
      "metadata": {
        "id": "cxjLT-VBd_0_",
        "colab_type": "code",
        "colab": {
          "autoexec": {
            "startup": false,
            "wait_interval": 0
          }
        }
      },
      "cell_type": "code",
      "source": [
        "sz=224"
      ],
      "execution_count": 0,
      "outputs": []
    },
    {
      "metadata": {
        "id": "zPoMuGisfaG6",
        "colab_type": "code",
        "colab": {
          "autoexec": {
            "startup": false,
            "wait_interval": 0
          },
          "base_uri": "https://localhost:8080/",
          "height": 159
        },
        "outputId": "1b18e8d6-ae86-47cb-b3a9-66a90a6c2a6c",
        "executionInfo": {
          "status": "ok",
          "timestamp": 1531878656826,
          "user_tz": 420,
          "elapsed": 2639,
          "user": {
            "displayName": "Richard Kuo",
            "photoUrl": "//lh5.googleusercontent.com/-mCYqOH5oFtk/AAAAAAAAAAI/AAAAAAAAAy0/oPRMXjJYBdY/s50-c-k-no/photo.jpg",
            "userId": "100516856770490478928"
          }
        }
      },
      "cell_type": "code",
      "source": [
        "arch=resnet34\n",
        "data = ImageClassifierData.from_paths(PATH, tfms=tfms_from_model(arch, sz))\n",
        "learn = ConvLearner.pretrained(arch, data, precompute=True)\n",
        "learn.fit(0.01, 3)"
      ],
      "execution_count": 30,
      "outputs": [
        {
          "output_type": "display_data",
          "data": {
            "application/vnd.jupyter.widget-view+json": {
              "model_id": "eff6d299b9b14db19b28d598d81ca95d",
              "version_minor": 0,
              "version_major": 2
            },
            "text/plain": [
              "HBox(children=(IntProgress(value=0, description='Epoch', max=3), HTML(value='')))"
            ]
          },
          "metadata": {
            "tags": []
          }
        },
        {
          "output_type": "stream",
          "text": [
            "epoch      trn_loss   val_loss   accuracy   \n",
            "    0      0.707758   0.609821   0.5       \n",
            "    1      0.69127    0.364417   1.0       \n",
            "    2      0.502602   0.216927   1.0       \n",
            "\n"
          ],
          "name": "stdout"
        },
        {
          "output_type": "execute_result",
          "data": {
            "text/plain": [
              "[array([0.21693]), 1.0]"
            ]
          },
          "metadata": {
            "tags": []
          },
          "execution_count": 30
        }
      ]
    }
  ]
}