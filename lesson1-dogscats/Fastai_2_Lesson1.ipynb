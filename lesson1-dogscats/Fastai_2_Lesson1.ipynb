{
  "nbformat": 4,
  "nbformat_minor": 0,
  "metadata": {
    "colab": {
      "name": "Fastai-2-Lesson1.ipynb",
      "version": "0.3.2",
      "views": {},
      "default_view": {},
      "provenance": [],
      "collapsed_sections": [
        "mvh-rUg9xdoL",
        "0muf0slsUg1B",
        "gX4qAYJLoBs8",
        "XNs7zY9APqfI",
        "H7Y97zTktxOY",
        "SBzhGAububOJ"
      ],
      "toc_visible": true
    },
    "kernelspec": {
      "name": "python3",
      "display_name": "Python 3"
    },
    "accelerator": "GPU"
  },
  "cells": [
    {
      "metadata": {
        "id": "tjLXeUDNmzWp",
        "colab_type": "text"
      },
      "cell_type": "markdown",
      "source": [
        "# fast.ai Lesson 1 Dogs and Cats"
      ]
    },
    {
      "metadata": {
        "id": "p9Se1wwRns_T",
        "colab_type": "text"
      },
      "cell_type": "markdown",
      "source": [
        "The intent of this notebook is to add some learning notes to original notebooks for future reference. \n",
        "\n",
        "It is very likely we will need GPU for our analysis, and most of notebooks do not equipment a GPU. A good option is to subscribe a cloud designed for Machine Learning or the Machine Learning as (MLaaS).\n",
        "\n",
        "- Cloud\n",
        "  - paperspace.com\n",
        "  - crestle.com\n",
        "  - colab.research.google.com (free, but some extra steps are needed, described below).\n",
        "- MLaaS\n",
        "  - AWS\n",
        "  - Microsoft\n",
        "  - Google Cloud\n",
        "  ...\n"
      ]
    },
    {
      "metadata": {
        "id": "mvh-rUg9xdoL",
        "colab_type": "text"
      },
      "cell_type": "markdown",
      "source": [
        "## Reference"
      ]
    },
    {
      "metadata": {
        "id": "uotyZEQjx3sl",
        "colab_type": "text"
      },
      "cell_type": "markdown",
      "source": [
        "- [Deep Learning 2: Part 1 Lesson 1](https://medium.com/@hiromi_suenaga/deep-learning-2-part-1-lesson-1-602f73869197)\n",
        "- [Image Classification with Convolutional Neural Networks](https://hackernoon.com/image-classification-with-convolutional-neural-networks-e2ec72130ecc)\n",
        "- [Lesson 1: Deep Learning 2018 video](https://www.youtube.com/watch?v=IPBSB1HLNLo&feature=youtu.be&t=15m40s)"
      ]
    },
    {
      "metadata": {
        "id": "0muf0slsUg1B",
        "colab_type": "text"
      },
      "cell_type": "markdown",
      "source": [
        "## Additional Setup for Google Colab\n",
        "- Per instruction at [Fast.ai Lesson 1 on Google Colab (Free GPU)](https://towardsdatascience.com/fast-ai-lesson-1-on-google-colab-free-gpu-d2af89f53604)\n",
        "- also see [Fastest way to setup Fast.ai course notebooks , for free — using Google Colab and Clouderizer](https://medium.com/@prakash_31206/fastest-way-to-setup-fast-ai-course-notebooks-for-free-using-google-colab-gpu-and-clouderizer-c8a004e1d50d)\n",
        "- and see [discussion](http://forums.fast.ai/t/fast-ai-with-google-colab/18882)  \n",
        "\n",
        "We need to add this at beginning of each notebook."
      ]
    },
    {
      "metadata": {
        "id": "gX4qAYJLoBs8",
        "colab_type": "text"
      },
      "cell_type": "markdown",
      "source": [
        "###Installing Pytorch"
      ]
    },
    {
      "metadata": {
        "id": "h8vh2oaxFl6W",
        "colab_type": "code",
        "colab": {
          "autoexec": {
            "startup": false,
            "wait_interval": 0
          },
          "base_uri": "https://localhost:8080/",
          "height": 243
        },
        "outputId": "9211981e-a7ec-4f2f-b3ac-c0b6ea1cd37a",
        "executionInfo": {
          "status": "ok",
          "timestamp": 1531344330547,
          "user_tz": 420,
          "elapsed": 3900,
          "user": {
            "displayName": "Richard Kuo",
            "photoUrl": "//lh5.googleusercontent.com/-mCYqOH5oFtk/AAAAAAAAAAI/AAAAAAAAAy0/oPRMXjJYBdY/s50-c-k-no/photo.jpg",
            "userId": "100516856770490478928"
          }
        }
      },
      "cell_type": "code",
      "source": [
        "#!pip install http://download.pytorch.org/whl/cu80/torch-0.3.0.post4-cp36-cp36m-linux_x86_64.whl && pip install torchvision\n",
        "!pip install http://download.pytorch.org/whl/cu75/torch-0.3.0.post4-cp36-cp36m-linux_x86_64.whl  && pip install torchvision"
      ],
      "execution_count": 1,
      "outputs": [
        {
          "output_type": "stream",
          "text": [
            "Requirement already satisfied: torch==0.3.0.post4 from http://download.pytorch.org/whl/cu75/torch-0.3.0.post4-cp36-cp36m-linux_x86_64.whl in /usr/local/lib/python3.6/dist-packages (0.3.0.post4)\r\n",
            "Requirement already satisfied: numpy in /usr/local/lib/python3.6/dist-packages (from torch==0.3.0.post4) (1.14.5)\n",
            "Requirement already satisfied: pyyaml in /usr/local/lib/python3.6/dist-packages (from torch==0.3.0.post4) (3.13)\n",
            "\u001b[31mplotnine 0.3.0 has requirement scipy>=1.0.0, but you'll have scipy 0.19.1 which is incompatible.\u001b[0m\n",
            "Requirement already satisfied: torchvision in /usr/local/lib/python3.6/dist-packages (0.2.1)\n",
            "Requirement already satisfied: pillow>=4.1.1 in /usr/local/lib/python3.6/dist-packages (from torchvision) (4.1.1)\n",
            "Requirement already satisfied: numpy in /usr/local/lib/python3.6/dist-packages (from torchvision) (1.14.5)\n",
            "Requirement already satisfied: six in /usr/local/lib/python3.6/dist-packages (from torchvision) (1.11.0)\n",
            "Requirement already satisfied: torch in /usr/local/lib/python3.6/dist-packages (from torchvision) (0.3.0.post4)\n",
            "Requirement already satisfied: olefile in /usr/local/lib/python3.6/dist-packages (from pillow>=4.1.1->torchvision) (0.45.1)\n",
            "Requirement already satisfied: pyyaml in /usr/local/lib/python3.6/dist-packages (from torch->torchvision) (3.13)\n",
            "\u001b[31mplotnine 0.3.0 has requirement scipy>=1.0.0, but you'll have scipy 0.19.1 which is incompatible.\u001b[0m\n"
          ],
          "name": "stdout"
        }
      ]
    },
    {
      "metadata": {
        "id": "XNs7zY9APqfI",
        "colab_type": "text"
      },
      "cell_type": "markdown",
      "source": [
        "###Workaround for an issue with PIL"
      ]
    },
    {
      "metadata": {
        "id": "WzXDTztRKVut",
        "colab_type": "code",
        "colab": {
          "autoexec": {
            "startup": false,
            "wait_interval": 0
          },
          "base_uri": "https://localhost:8080/",
          "height": 243
        },
        "outputId": "1bf64f08-fac5-46a0-e8a2-76b8a3d22d99",
        "executionInfo": {
          "status": "ok",
          "timestamp": 1531344337482,
          "user_tz": 420,
          "elapsed": 6891,
          "user": {
            "displayName": "Richard Kuo",
            "photoUrl": "//lh5.googleusercontent.com/-mCYqOH5oFtk/AAAAAAAAAAI/AAAAAAAAAy0/oPRMXjJYBdY/s50-c-k-no/photo.jpg",
            "userId": "100516856770490478928"
          }
        }
      },
      "cell_type": "code",
      "source": [
        "!pip install Pillow==4.1.1\n",
        "!pip install PIL\n",
        "!pip install image"
      ],
      "execution_count": 2,
      "outputs": [
        {
          "output_type": "stream",
          "text": [
            "Requirement already satisfied: Pillow==4.1.1 in /usr/local/lib/python3.6/dist-packages (4.1.1)\r\n",
            "Requirement already satisfied: olefile in /usr/local/lib/python3.6/dist-packages (from Pillow==4.1.1) (0.45.1)\n",
            "\u001b[31mplotnine 0.3.0 has requirement scipy>=1.0.0, but you'll have scipy 0.19.1 which is incompatible.\u001b[0m\n",
            "Collecting PIL\n",
            "\u001b[31m  Could not find a version that satisfies the requirement PIL (from versions: )\u001b[0m\n",
            "\u001b[31mNo matching distribution found for PIL\u001b[0m\n",
            "Requirement already satisfied: image in /usr/local/lib/python3.6/dist-packages (1.5.24)\n",
            "Requirement already satisfied: pillow in /usr/local/lib/python3.6/dist-packages (from image) (4.1.1)\n",
            "Requirement already satisfied: django in /usr/local/lib/python3.6/dist-packages (from image) (2.0.7)\n",
            "Requirement already satisfied: olefile in /usr/local/lib/python3.6/dist-packages (from pillow->image) (0.45.1)\n",
            "Requirement already satisfied: pytz in /usr/local/lib/python3.6/dist-packages (from django->image) (2018.5)\n",
            "\u001b[31mplotnine 0.3.0 has requirement scipy>=1.0.0, but you'll have scipy 0.19.1 which is incompatible.\u001b[0m\n"
          ],
          "name": "stdout"
        }
      ]
    },
    {
      "metadata": {
        "id": "H7Y97zTktxOY",
        "colab_type": "text"
      },
      "cell_type": "markdown",
      "source": [
        "###Installing fastai"
      ]
    },
    {
      "metadata": {
        "id": "q3O_XGK3LJRW",
        "colab_type": "code",
        "colab": {
          "autoexec": {
            "startup": false,
            "wait_interval": 0
          },
          "base_uri": "https://localhost:8080/",
          "height": 1340
        },
        "outputId": "606e478d-ac49-4abf-b5d6-7fd83e23889f",
        "executionInfo": {
          "status": "ok",
          "timestamp": 1531344340886,
          "user_tz": 420,
          "elapsed": 3360,
          "user": {
            "displayName": "Richard Kuo",
            "photoUrl": "//lh5.googleusercontent.com/-mCYqOH5oFtk/AAAAAAAAAAI/AAAAAAAAAy0/oPRMXjJYBdY/s50-c-k-no/photo.jpg",
            "userId": "100516856770490478928"
          }
        }
      },
      "cell_type": "code",
      "source": [
        "!pip install fastai"
      ],
      "execution_count": 3,
      "outputs": [
        {
          "output_type": "stream",
          "text": [
            "Requirement already satisfied: fastai in /usr/local/lib/python3.6/dist-packages (0.7.0)\r\n",
            "Requirement already satisfied: pickleshare in /usr/local/lib/python3.6/dist-packages (from fastai) (0.7.4)\r\n",
            "Requirement already satisfied: sklearn-pandas in /usr/local/lib/python3.6/dist-packages (from fastai) (1.6.0)\r\n",
            "Requirement already satisfied: bleach in /usr/local/lib/python3.6/dist-packages (from fastai) (2.1.3)\n",
            "Requirement already satisfied: opencv-python in /usr/local/lib/python3.6/dist-packages (from fastai) (3.4.1.15)\n",
            "Requirement already satisfied: ipywidgets in /usr/local/lib/python3.6/dist-packages (from fastai) (7.2.1)\n",
            "Requirement already satisfied: pandas-summary in /usr/local/lib/python3.6/dist-packages (from fastai) (0.0.41)\n",
            "Requirement already satisfied: testpath in /usr/local/lib/python3.6/dist-packages (from fastai) (0.3.1)\n",
            "Requirement already satisfied: feather-format in /usr/local/lib/python3.6/dist-packages (from fastai) (0.4.0)\n",
            "Requirement already satisfied: tornado in /usr/local/lib/python3.6/dist-packages (from fastai) (4.5.3)\n",
            "Requirement already satisfied: traitlets in /usr/local/lib/python3.6/dist-packages (from fastai) (4.3.2)\n",
            "Requirement already satisfied: ipython-genutils in /usr/local/lib/python3.6/dist-packages (from fastai) (0.2.0)\n",
            "Requirement already satisfied: torchvision in /usr/local/lib/python3.6/dist-packages (from fastai) (0.2.1)\n",
            "Requirement already satisfied: decorator in /usr/local/lib/python3.6/dist-packages (from fastai) (4.3.0)\n",
            "Requirement already satisfied: torch<0.4 in /usr/local/lib/python3.6/dist-packages (from fastai) (0.3.0.post4)\n",
            "Requirement already satisfied: Pygments in /usr/local/lib/python3.6/dist-packages (from fastai) (2.1.3)\n",
            "Requirement already satisfied: isoweek in /usr/local/lib/python3.6/dist-packages (from fastai) (1.3.3)\n",
            "Requirement already satisfied: tqdm in /usr/local/lib/python3.6/dist-packages (from fastai) (4.23.4)\n",
            "Requirement already satisfied: entrypoints in /usr/local/lib/python3.6/dist-packages (from fastai) (0.2.3)\n",
            "Requirement already satisfied: torchtext in /usr/local/lib/python3.6/dist-packages (from fastai) (0.2.3)\n",
            "Requirement already satisfied: Jinja2 in /usr/local/lib/python3.6/dist-packages (from fastai) (2.10)\n",
            "Requirement already satisfied: bcolz in /usr/local/lib/python3.6/dist-packages (from fastai) (1.2.1)\n",
            "Requirement already satisfied: jupyter in /usr/local/lib/python3.6/dist-packages (from fastai) (1.0.0)\n",
            "Requirement already satisfied: numpy in /usr/local/lib/python3.6/dist-packages (from fastai) (1.14.5)\n",
            "Requirement already satisfied: graphviz in /usr/local/lib/python3.6/dist-packages (from fastai) (0.8.4)\n",
            "Requirement already satisfied: pytz in /usr/local/lib/python3.6/dist-packages (from fastai) (2018.5)\n",
            "Requirement already satisfied: matplotlib in /usr/local/lib/python3.6/dist-packages (from fastai) (2.1.2)\n",
            "Requirement already satisfied: ipython in /usr/local/lib/python3.6/dist-packages (from fastai) (5.5.0)\n",
            "Requirement already satisfied: webencodings in /usr/local/lib/python3.6/dist-packages (from fastai) (0.5.1)\n",
            "Requirement already satisfied: ptyprocess in /usr/local/lib/python3.6/dist-packages (from fastai) (0.6.0)\n",
            "Requirement already satisfied: scipy in /usr/local/lib/python3.6/dist-packages (from fastai) (0.19.1)\n",
            "Requirement already satisfied: ipykernel in /usr/local/lib/python3.6/dist-packages (from fastai) (4.6.1)\n",
            "Requirement already satisfied: Pillow in /usr/local/lib/python3.6/dist-packages (from fastai) (4.1.1)\n",
            "Requirement already satisfied: PyYAML in /usr/local/lib/python3.6/dist-packages (from fastai) (3.13)\n",
            "Requirement already satisfied: pyzmq in /usr/local/lib/python3.6/dist-packages (from fastai) (16.0.4)\n",
            "Requirement already satisfied: python-dateutil in /usr/local/lib/python3.6/dist-packages (from fastai) (2.5.3)\n",
            "Requirement already satisfied: certifi in /usr/local/lib/python3.6/dist-packages (from fastai) (2018.4.16)\n",
            "Requirement already satisfied: MarkupSafe in /usr/local/lib/python3.6/dist-packages (from fastai) (1.0)\n",
            "Requirement already satisfied: pandas in /usr/local/lib/python3.6/dist-packages (from fastai) (0.22.0)\n",
            "Requirement already satisfied: jsonschema in /usr/local/lib/python3.6/dist-packages (from fastai) (2.6.0)\n",
            "Requirement already satisfied: plotnine in /usr/local/lib/python3.6/dist-packages (from fastai) (0.3.0)\n",
            "Requirement already satisfied: widgetsnbextension in /usr/local/lib/python3.6/dist-packages (from fastai) (3.2.1)\n",
            "Requirement already satisfied: wcwidth in /usr/local/lib/python3.6/dist-packages (from fastai) (0.1.7)\n",
            "Requirement already satisfied: html5lib in /usr/local/lib/python3.6/dist-packages (from fastai) (1.0.1)\n",
            "Requirement already satisfied: cycler in /usr/local/lib/python3.6/dist-packages (from fastai) (0.10.0)\n",
            "Requirement already satisfied: simplegeneric in /usr/local/lib/python3.6/dist-packages (from fastai) (0.8.1)\n",
            "Requirement already satisfied: seaborn in /usr/local/lib/python3.6/dist-packages (from fastai) (0.7.1)\n",
            "Requirement already satisfied: pyparsing in /usr/local/lib/python3.6/dist-packages (from fastai) (2.2.0)\n",
            "Requirement already satisfied: jedi in /usr/local/lib/python3.6/dist-packages (from fastai) (0.12.1)\n",
            "Requirement already satisfied: scikit-learn>=0.15.0 in /usr/local/lib/python3.6/dist-packages (from sklearn-pandas->fastai) (0.19.1)\n",
            "Requirement already satisfied: six in /usr/local/lib/python3.6/dist-packages (from bleach->fastai) (1.11.0)\n",
            "Requirement already satisfied: nbformat>=4.2.0 in /usr/local/lib/python3.6/dist-packages (from ipywidgets->fastai) (4.4.0)\n",
            "Requirement already satisfied: pyarrow>=0.4.0 in /usr/local/lib/python3.6/dist-packages (from feather-format->fastai) (0.9.0)\n",
            "Requirement already satisfied: requests in /usr/local/lib/python3.6/dist-packages (from torchtext->fastai) (2.18.4)\n",
            "Requirement already satisfied: nbconvert in /usr/local/lib/python3.6/dist-packages (from jupyter->fastai) (5.3.1)\n",
            "Requirement already satisfied: notebook in /usr/local/lib/python3.6/dist-packages (from jupyter->fastai) (5.2.2)\n",
            "Requirement already satisfied: jupyter-console in /usr/local/lib/python3.6/dist-packages (from jupyter->fastai) (5.2.0)\n",
            "Requirement already satisfied: qtconsole in /usr/local/lib/python3.6/dist-packages (from jupyter->fastai) (4.3.1)\n",
            "Requirement already satisfied: prompt-toolkit<2.0.0,>=1.0.4 in /usr/local/lib/python3.6/dist-packages (from ipython->fastai) (1.0.15)\n",
            "Requirement already satisfied: setuptools>=18.5 in /usr/local/lib/python3.6/dist-packages (from ipython->fastai) (39.1.0)\n",
            "Requirement already satisfied: pexpect; sys_platform != \"win32\" in /usr/local/lib/python3.6/dist-packages (from ipython->fastai) (4.6.0)\n",
            "Requirement already satisfied: jupyter-client in /usr/local/lib/python3.6/dist-packages (from ipykernel->fastai) (5.2.3)\n",
            "Requirement already satisfied: olefile in /usr/local/lib/python3.6/dist-packages (from Pillow->fastai) (0.45.1)\n",
            "Requirement already satisfied: patsy>=0.4.1 in /usr/local/lib/python3.6/dist-packages (from plotnine->fastai) (0.5.0)\n",
            "Requirement already satisfied: mizani>=0.4.1 in /usr/local/lib/python3.6/dist-packages (from plotnine->fastai) (0.4.6)\n",
            "Requirement already satisfied: statsmodels>=0.8.0 in /usr/local/lib/python3.6/dist-packages (from plotnine->fastai) (0.8.0)\n",
            "Requirement already satisfied: parso>=0.3.0 in /usr/local/lib/python3.6/dist-packages (from jedi->fastai) (0.3.1)\n",
            "Requirement already satisfied: jupyter-core in /usr/local/lib/python3.6/dist-packages (from nbformat>=4.2.0->ipywidgets->fastai) (4.4.0)\n",
            "Requirement already satisfied: urllib3<1.23,>=1.21.1 in /usr/local/lib/python3.6/dist-packages (from requests->torchtext->fastai) (1.22)\n",
            "Requirement already satisfied: idna<2.7,>=2.5 in /usr/local/lib/python3.6/dist-packages (from requests->torchtext->fastai) (2.6)\n",
            "Requirement already satisfied: chardet<3.1.0,>=3.0.2 in /usr/local/lib/python3.6/dist-packages (from requests->torchtext->fastai) (3.0.4)\n",
            "Requirement already satisfied: pandocfilters>=1.4.1 in /usr/local/lib/python3.6/dist-packages (from nbconvert->jupyter->fastai) (1.4.2)\n",
            "Requirement already satisfied: mistune>=0.7.4 in /usr/local/lib/python3.6/dist-packages (from nbconvert->jupyter->fastai) (0.8.3)\n",
            "Requirement already satisfied: terminado>=0.3.3; sys_platform != \"win32\" in /usr/local/lib/python3.6/dist-packages (from notebook->jupyter->fastai) (0.8.1)\n",
            "Requirement already satisfied: palettable in /usr/local/lib/python3.6/dist-packages (from mizani>=0.4.1->plotnine->fastai) (3.1.1)\n",
            "\u001b[31mplotnine 0.3.0 has requirement scipy>=1.0.0, but you'll have scipy 0.19.1 which is incompatible.\u001b[0m\n"
          ],
          "name": "stdout"
        }
      ]
    },
    {
      "metadata": {
        "id": "SBzhGAububOJ",
        "colab_type": "text"
      },
      "cell_type": "markdown",
      "source": [
        "###Installing libSM"
      ]
    },
    {
      "metadata": {
        "id": "SXTrf1d8uf7I",
        "colab_type": "text"
      },
      "cell_type": "markdown",
      "source": [
        "The import of fastai is will throw an error that this library is missing. So, Installing the same."
      ]
    },
    {
      "metadata": {
        "id": "e1fguoObMbDH",
        "colab_type": "code",
        "colab": {
          "autoexec": {
            "startup": false,
            "wait_interval": 0
          },
          "base_uri": "https://localhost:8080/",
          "height": 294
        },
        "outputId": "ad1287d9-be74-45ab-d0c4-9927e1436232",
        "executionInfo": {
          "status": "ok",
          "timestamp": 1531344347127,
          "user_tz": 420,
          "elapsed": 4885,
          "user": {
            "displayName": "Richard Kuo",
            "photoUrl": "//lh5.googleusercontent.com/-mCYqOH5oFtk/AAAAAAAAAAI/AAAAAAAAAy0/oPRMXjJYBdY/s50-c-k-no/photo.jpg",
            "userId": "100516856770490478928"
          }
        }
      },
      "cell_type": "code",
      "source": [
        "!apt update && apt install -y libsm6 libxext6"
      ],
      "execution_count": 4,
      "outputs": [
        {
          "output_type": "stream",
          "text": [
            "Get:1 http://security.ubuntu.com/ubuntu artful-security InRelease [83.2 kB]\n",
            "Hit:2 http://archive.ubuntu.com/ubuntu artful InRelease\n",
            "Get:3 http://archive.ubuntu.com/ubuntu artful-updates InRelease [88.7 kB]\n",
            "Get:4 http://archive.ubuntu.com/ubuntu artful-backports InRelease [74.6 kB]\n",
            "Fetched 247 kB in 0s (253 kB/s)\n",
            "Reading package lists... Done\n",
            "Building dependency tree       \n",
            "Reading state information... Done\n",
            "12 packages can be upgraded. Run 'apt list --upgradable' to see them.\n",
            "Reading package lists... Done\n",
            "Building dependency tree       \n",
            "Reading state information... Done\n",
            "libsm6 is already the newest version (2:1.2.2-1).\n",
            "libxext6 is already the newest version (2:1.3.3-1).\n",
            "0 upgraded, 0 newly installed, 0 to remove and 12 not upgraded.\n"
          ],
          "name": "stdout"
        }
      ]
    },
    {
      "metadata": {
        "id": "OtjPgYLVnXRv",
        "colab_type": "text"
      },
      "cell_type": "markdown",
      "source": [
        "### Download Dataset"
      ]
    },
    {
      "metadata": {
        "id": "7_yd6ymPMyYO",
        "colab_type": "code",
        "colab": {
          "autoexec": {
            "startup": false,
            "wait_interval": 0
          },
          "base_uri": "https://localhost:8080/",
          "height": 54
        },
        "outputId": "27bab1a1-3142-44ab-ad22-b4babac427b8",
        "executionInfo": {
          "status": "ok",
          "timestamp": 1531344348693,
          "user_tz": 420,
          "elapsed": 1538,
          "user": {
            "displayName": "Richard Kuo",
            "photoUrl": "//lh5.googleusercontent.com/-mCYqOH5oFtk/AAAAAAAAAAI/AAAAAAAAAy0/oPRMXjJYBdY/s50-c-k-no/photo.jpg",
            "userId": "100516856770490478928"
          }
        }
      },
      "cell_type": "code",
      "source": [
        "!mkdir data && wget http://files.fast.ai/data/dogscats.zip && unzip dogscats.zip -d data/"
      ],
      "execution_count": 5,
      "outputs": [
        {
          "output_type": "stream",
          "text": [
            "mkdir: cannot create directory ‘data’: File exists\r\n"
          ],
          "name": "stdout"
        }
      ]
    },
    {
      "metadata": {
        "id": "_TqUbkvOnUUu",
        "colab_type": "text"
      },
      "cell_type": "markdown",
      "source": [
        "## Image classification with Convolutional Neural Networks"
      ]
    },
    {
      "metadata": {
        "id": "zvc9hjiTnUUv",
        "colab_type": "text"
      },
      "cell_type": "markdown",
      "source": [
        "Welcome to the first week of the second deep learning certificate! We're going to use convolutional neural networks (CNNs) to allow our computer to see - something that is only possible thanks to deep learning."
      ]
    },
    {
      "metadata": {
        "id": "NuFB-u2Fm7ob",
        "colab_type": "code",
        "colab": {
          "autoexec": {
            "startup": false,
            "wait_interval": 0
          }
        }
      },
      "cell_type": "code",
      "source": [
        "import sys\n",
        "import os"
      ],
      "execution_count": 0,
      "outputs": []
    },
    {
      "metadata": {
        "id": "E8lvpFF4Nhus",
        "colab_type": "code",
        "colab": {
          "autoexec": {
            "startup": false,
            "wait_interval": 0
          }
        }
      },
      "cell_type": "code",
      "source": [
        "# Put these at the top of every notebook, to get automatic reloading and inline plotting\n",
        "from matplotlib import pyplot as plt\n",
        "%reload_ext autoreload\n",
        "%autoreload 2\n",
        "%matplotlib inline"
      ],
      "execution_count": 0,
      "outputs": []
    },
    {
      "metadata": {
        "id": "rFqhbLmPRSvH",
        "colab_type": "code",
        "colab": {
          "autoexec": {
            "startup": false,
            "wait_interval": 0
          }
        }
      },
      "cell_type": "code",
      "source": [
        "# This file contains all the main external libs we'll use\n",
        "from fastai.imports import *"
      ],
      "execution_count": 0,
      "outputs": []
    },
    {
      "metadata": {
        "id": "kwDwNAmXRVtC",
        "colab_type": "code",
        "colab": {
          "autoexec": {
            "startup": false,
            "wait_interval": 0
          }
        }
      },
      "cell_type": "code",
      "source": [
        "from fastai.transforms import *\n",
        "from fastai.conv_learner import *\n",
        "from fastai.model import *\n",
        "from fastai.dataset import *\n",
        "from fastai.sgdr import *\n",
        "from fastai.plots import *"
      ],
      "execution_count": 0,
      "outputs": []
    },
    {
      "metadata": {
        "id": "RlbuMLLl0LxD",
        "colab_type": "text"
      },
      "cell_type": "markdown",
      "source": [
        "### Miscellanious \n",
        "- use tab key for code completion, and\n",
        "- shift-tab for arguement list, and\n",
        "- hit shift-tab twice to get document of the function.\n",
        "- use ! at beginning of cell to execute bash command."
      ]
    },
    {
      "metadata": {
        "id": "TGv4eHBeidUv",
        "colab_type": "text"
      },
      "cell_type": "markdown",
      "source": [
        "### Find out what we have"
      ]
    },
    {
      "metadata": {
        "id": "aVDmSiHgjQV4",
        "colab_type": "text"
      },
      "cell_type": "markdown",
      "source": [
        "Find out whether we have GPU available. NVida's GPU library is `cuda`. "
      ]
    },
    {
      "metadata": {
        "id": "tU5pxKckjAUz",
        "colab_type": "code",
        "colab": {
          "autoexec": {
            "startup": false,
            "wait_interval": 0
          },
          "base_uri": "https://localhost:8080/",
          "height": 34
        },
        "outputId": "c10b6479-7dd7-428d-d890-80cd72c7c316",
        "executionInfo": {
          "status": "ok",
          "timestamp": 1531344355715,
          "user_tz": 420,
          "elapsed": 451,
          "user": {
            "displayName": "Richard Kuo",
            "photoUrl": "//lh5.googleusercontent.com/-mCYqOH5oFtk/AAAAAAAAAAI/AAAAAAAAAy0/oPRMXjJYBdY/s50-c-k-no/photo.jpg",
            "userId": "100516856770490478928"
          }
        }
      },
      "cell_type": "code",
      "source": [
        "torch.cuda.is_available()"
      ],
      "execution_count": 10,
      "outputs": [
        {
          "output_type": "execute_result",
          "data": {
            "text/plain": [
              "True"
            ]
          },
          "metadata": {
            "tags": []
          },
          "execution_count": 10
        }
      ]
    },
    {
      "metadata": {
        "id": "Ug-9hVvgj4Rg",
        "colab_type": "text"
      },
      "cell_type": "markdown",
      "source": [
        "In addition, NVidia provides special accelerated functions for deep learning in a package called CuDNN. Although not strictly necessary, it will improve training performance significantly, and is included by default in all supported fastai configurations. Therefore, if the following does not return True, you may want to look into why."
      ]
    },
    {
      "metadata": {
        "id": "tt44JUHKsk0I",
        "colab_type": "code",
        "colab": {
          "autoexec": {
            "startup": false,
            "wait_interval": 0
          },
          "base_uri": "https://localhost:8080/",
          "height": 34
        },
        "outputId": "c1effad5-47b1-49d0-e97f-f4b8e6523ac5",
        "executionInfo": {
          "status": "ok",
          "timestamp": 1531344356703,
          "user_tz": 420,
          "elapsed": 549,
          "user": {
            "displayName": "Richard Kuo",
            "photoUrl": "//lh5.googleusercontent.com/-mCYqOH5oFtk/AAAAAAAAAAI/AAAAAAAAAy0/oPRMXjJYBdY/s50-c-k-no/photo.jpg",
            "userId": "100516856770490478928"
          }
        }
      },
      "cell_type": "code",
      "source": [
        "torch.backends.cudnn.enabled"
      ],
      "execution_count": 11,
      "outputs": [
        {
          "output_type": "execute_result",
          "data": {
            "text/plain": [
              "True"
            ]
          },
          "metadata": {
            "tags": []
          },
          "execution_count": 11
        }
      ]
    },
    {
      "metadata": {
        "id": "l4NFBaqqoPGV",
        "colab_type": "text"
      },
      "cell_type": "markdown",
      "source": [
        "### First take a look of the data"
      ]
    },
    {
      "metadata": {
        "id": "yxei60aikWPB",
        "colab_type": "code",
        "colab": {
          "autoexec": {
            "startup": false,
            "wait_interval": 0
          },
          "base_uri": "https://localhost:8080/",
          "height": 34
        },
        "outputId": "2a5910f1-0715-4c01-bdbc-cd5b3c62a714",
        "executionInfo": {
          "status": "ok",
          "timestamp": 1531344358683,
          "user_tz": 420,
          "elapsed": 1512,
          "user": {
            "displayName": "Richard Kuo",
            "photoUrl": "//lh5.googleusercontent.com/-mCYqOH5oFtk/AAAAAAAAAAI/AAAAAAAAAy0/oPRMXjJYBdY/s50-c-k-no/photo.jpg",
            "userId": "100516856770490478928"
          }
        }
      },
      "cell_type": "code",
      "source": [
        "#find out current location\n",
        "!pwd"
      ],
      "execution_count": 12,
      "outputs": [
        {
          "output_type": "stream",
          "text": [
            "/content\r\n"
          ],
          "name": "stdout"
        }
      ]
    },
    {
      "metadata": {
        "id": "_J2yUka_R9Sl",
        "colab_type": "code",
        "colab": {
          "autoexec": {
            "startup": false,
            "wait_interval": 0
          }
        }
      },
      "cell_type": "code",
      "source": [
        "# we know where is data\n",
        "PATH = \"data/dogscats/\""
      ],
      "execution_count": 0,
      "outputs": []
    },
    {
      "metadata": {
        "id": "nyU2DhMdSFQB",
        "colab_type": "code",
        "colab": {
          "autoexec": {
            "startup": false,
            "wait_interval": 0
          }
        }
      },
      "cell_type": "code",
      "source": [
        "sz=224"
      ],
      "execution_count": 0,
      "outputs": []
    },
    {
      "metadata": {
        "id": "bVabflM9ScpW",
        "colab_type": "code",
        "colab": {
          "autoexec": {
            "startup": false,
            "wait_interval": 0
          },
          "base_uri": "https://localhost:8080/",
          "height": 34
        },
        "outputId": "60b06900-8461-4077-8caf-95af8924008d",
        "executionInfo": {
          "status": "ok",
          "timestamp": 1531344362873,
          "user_tz": 420,
          "elapsed": 1552,
          "user": {
            "displayName": "Richard Kuo",
            "photoUrl": "//lh5.googleusercontent.com/-mCYqOH5oFtk/AAAAAAAAAAI/AAAAAAAAAy0/oPRMXjJYBdY/s50-c-k-no/photo.jpg",
            "userId": "100516856770490478928"
          }
        }
      },
      "cell_type": "code",
      "source": [
        "!ls {PATH}"
      ],
      "execution_count": 15,
      "outputs": [
        {
          "output_type": "stream",
          "text": [
            "models\tsample\ttest1  tmp  train  valid\r\n"
          ],
          "name": "stdout"
        }
      ]
    },
    {
      "metadata": {
        "id": "sSNbH1fieYcc",
        "colab_type": "text"
      },
      "cell_type": "markdown",
      "source": [
        "We can also get the sub-directory via os library, it returns an array."
      ]
    },
    {
      "metadata": {
        "id": "PBc8dktbnSnD",
        "colab_type": "code",
        "colab": {
          "autoexec": {
            "startup": false,
            "wait_interval": 0
          },
          "base_uri": "https://localhost:8080/",
          "height": 51
        },
        "outputId": "b1184892-d7d9-424f-ee4e-644fbd607f0c",
        "executionInfo": {
          "status": "ok",
          "timestamp": 1531344363555,
          "user_tz": 420,
          "elapsed": 417,
          "user": {
            "displayName": "Richard Kuo",
            "photoUrl": "//lh5.googleusercontent.com/-mCYqOH5oFtk/AAAAAAAAAAI/AAAAAAAAAy0/oPRMXjJYBdY/s50-c-k-no/photo.jpg",
            "userId": "100516856770490478928"
          }
        }
      },
      "cell_type": "code",
      "source": [
        "subdir = os.listdir(PATH)\n",
        "print(subdir)\n",
        "type(subdir)"
      ],
      "execution_count": 16,
      "outputs": [
        {
          "output_type": "stream",
          "text": [
            "['train', 'sample', 'tmp', 'valid', 'models', 'test1']\n"
          ],
          "name": "stdout"
        },
        {
          "output_type": "execute_result",
          "data": {
            "text/plain": [
              "list"
            ]
          },
          "metadata": {
            "tags": []
          },
          "execution_count": 16
        }
      ]
    },
    {
      "metadata": {
        "id": "YX0PmFzgtpB2",
        "colab_type": "code",
        "colab": {
          "autoexec": {
            "startup": false,
            "wait_interval": 0
          },
          "base_uri": "https://localhost:8080/",
          "height": 34
        },
        "outputId": "65aedd83-dd8d-47ff-e5e9-2d11ec1f9092",
        "executionInfo": {
          "status": "ok",
          "timestamp": 1531344364576,
          "user_tz": 420,
          "elapsed": 397,
          "user": {
            "displayName": "Richard Kuo",
            "photoUrl": "//lh5.googleusercontent.com/-mCYqOH5oFtk/AAAAAAAAAAI/AAAAAAAAAy0/oPRMXjJYBdY/s50-c-k-no/photo.jpg",
            "userId": "100516856770490478928"
          }
        }
      },
      "cell_type": "code",
      "source": [
        "os.listdir(f'{PATH}valid')"
      ],
      "execution_count": 17,
      "outputs": [
        {
          "output_type": "execute_result",
          "data": {
            "text/plain": [
              "['dogs', 'cats']"
            ]
          },
          "metadata": {
            "tags": []
          },
          "execution_count": 17
        }
      ]
    },
    {
      "metadata": {
        "id": "NfidIcFRqChx",
        "colab_type": "code",
        "colab": {
          "autoexec": {
            "startup": false,
            "wait_interval": 0
          },
          "base_uri": "https://localhost:8080/",
          "height": 34
        },
        "outputId": "2904a96a-8e2e-47cb-d6cd-d4dbd8b5c482",
        "executionInfo": {
          "status": "ok",
          "timestamp": 1531344365582,
          "user_tz": 420,
          "elapsed": 414,
          "user": {
            "displayName": "Richard Kuo",
            "photoUrl": "//lh5.googleusercontent.com/-mCYqOH5oFtk/AAAAAAAAAAI/AAAAAAAAAy0/oPRMXjJYBdY/s50-c-k-no/photo.jpg",
            "userId": "100516856770490478928"
          }
        }
      },
      "cell_type": "code",
      "source": [
        "listOfDogPics = os.listdir(f'{PATH}valid/dogs')\n",
        "len(listOfDogPics)"
      ],
      "execution_count": 18,
      "outputs": [
        {
          "output_type": "execute_result",
          "data": {
            "text/plain": [
              "1000"
            ]
          },
          "metadata": {
            "tags": []
          },
          "execution_count": 18
        }
      ]
    },
    {
      "metadata": {
        "id": "0aP_d_HkZXK1",
        "colab_type": "text"
      },
      "cell_type": "markdown",
      "source": [
        "There is 1000 of dog pictures in the directory."
      ]
    },
    {
      "metadata": {
        "id": "YAoN0QgrUBzS",
        "colab_type": "code",
        "colab": {
          "autoexec": {
            "startup": false,
            "wait_interval": 0
          },
          "base_uri": "https://localhost:8080/",
          "height": 103
        },
        "outputId": "9adb2f0a-2f9c-4fa2-f408-d2a12edd46f9",
        "executionInfo": {
          "status": "ok",
          "timestamp": 1531344366693,
          "user_tz": 420,
          "elapsed": 486,
          "user": {
            "displayName": "Richard Kuo",
            "photoUrl": "//lh5.googleusercontent.com/-mCYqOH5oFtk/AAAAAAAAAAI/AAAAAAAAAy0/oPRMXjJYBdY/s50-c-k-no/photo.jpg",
            "userId": "100516856770490478928"
          }
        }
      },
      "cell_type": "code",
      "source": [
        "files = os.listdir(f'{PATH}valid/dogs')[0:5]\n",
        "files"
      ],
      "execution_count": 19,
      "outputs": [
        {
          "output_type": "execute_result",
          "data": {
            "text/plain": [
              "['dog.10974.jpg',\n",
              " 'dog.5397.jpg',\n",
              " 'dog.5535.jpg',\n",
              " 'dog.4757.jpg',\n",
              " 'dog.1063.jpg']"
            ]
          },
          "metadata": {
            "tags": []
          },
          "execution_count": 19
        }
      ]
    },
    {
      "metadata": {
        "id": "RMzy4paeVew6",
        "colab_type": "code",
        "colab": {
          "autoexec": {
            "startup": false,
            "wait_interval": 0
          },
          "base_uri": "https://localhost:8080/",
          "height": 228
        },
        "outputId": "59f0dc12-a856-4ba5-aa42-4295a0e7a863",
        "executionInfo": {
          "status": "ok",
          "timestamp": 1531344368030,
          "user_tz": 420,
          "elapsed": 894,
          "user": {
            "displayName": "Richard Kuo",
            "photoUrl": "//lh5.googleusercontent.com/-mCYqOH5oFtk/AAAAAAAAAAI/AAAAAAAAAy0/oPRMXjJYBdY/s50-c-k-no/photo.jpg",
            "userId": "100516856770490478928"
          }
        }
      },
      "cell_type": "code",
      "source": [
        "for i in range(0, 5): \n",
        "  plt.subplot(1, 5, i+1)\n",
        "  img = plt.imread(f'{PATH}valid/dogs/{files[i]}')  # this requires pyplot\n",
        "  print(img.shape)\n",
        "  plt.imshow(img)"
      ],
      "execution_count": 20,
      "outputs": [
        {
          "output_type": "stream",
          "text": [
            "(426, 499, 3)\n",
            "(139, 89, 3)\n",
            "(374, 500, 3)\n",
            "(376, 500, 3)\n",
            "(290, 349, 3)\n"
          ],
          "name": "stdout"
        },
        {
          "output_type": "display_data",
          "data": {
            "image/png": "[encoded data removed]",
            "text/plain": [
              "<matplotlib.figure.Figure at 0x7fe9bd7946a0>"
            ]
          },
          "metadata": {
            "tags": []
          }
        }
      ]
    },
    {
      "metadata": {
        "id": "uP9CWHy_Jpri",
        "colab_type": "text"
      },
      "cell_type": "markdown",
      "source": [
        "Images are not the same shape."
      ]
    },
    {
      "metadata": {
        "id": "27X3VWK_YeMY",
        "colab_type": "code",
        "colab": {
          "autoexec": {
            "startup": false,
            "wait_interval": 0
          },
          "base_uri": "https://localhost:8080/",
          "height": 188
        },
        "outputId": "65fe71a9-565f-4854-e43f-3c6cbb072014",
        "executionInfo": {
          "status": "ok",
          "timestamp": 1531344369578,
          "user_tz": 420,
          "elapsed": 406,
          "user": {
            "displayName": "Richard Kuo",
            "photoUrl": "//lh5.googleusercontent.com/-mCYqOH5oFtk/AAAAAAAAAAI/AAAAAAAAAy0/oPRMXjJYBdY/s50-c-k-no/photo.jpg",
            "userId": "100516856770490478928"
          }
        }
      },
      "cell_type": "code",
      "source": [
        "# try this with \"head\" and \"tail\"\n",
        "imgFiles = !ls {PATH}valid/dogs | head\n",
        "imgFiles"
      ],
      "execution_count": 21,
      "outputs": [
        {
          "output_type": "execute_result",
          "data": {
            "text/plain": [
              "['dog.10001.jpg',\n",
              " 'dog.10005.jpg',\n",
              " 'dog.10010.jpg',\n",
              " 'dog.10018.jpg',\n",
              " 'dog.1001.jpg',\n",
              " 'dog.10033.jpg',\n",
              " 'dog.10038.jpg',\n",
              " 'dog.10051.jpg',\n",
              " 'dog.10063.jpg',\n",
              " 'dog.10089.jpg']"
            ]
          },
          "metadata": {
            "tags": []
          },
          "execution_count": 21
        }
      ]
    },
    {
      "metadata": {
        "id": "28Z3g2zNiXET",
        "colab_type": "code",
        "colab": {
          "autoexec": {
            "startup": false,
            "wait_interval": 0
          },
          "base_uri": "https://localhost:8080/",
          "height": 303
        },
        "outputId": "8d4a310d-6ea4-4390-8264-d0fbb7048c27",
        "executionInfo": {
          "status": "ok",
          "timestamp": 1531344371060,
          "user_tz": 420,
          "elapsed": 532,
          "user": {
            "displayName": "Richard Kuo",
            "photoUrl": "//lh5.googleusercontent.com/-mCYqOH5oFtk/AAAAAAAAAAI/AAAAAAAAAy0/oPRMXjJYBdY/s50-c-k-no/photo.jpg",
            "userId": "100516856770490478928"
          }
        }
      },
      "cell_type": "code",
      "source": [
        "print(f'{PATH}valid/dogs/{files[0]}')\n",
        "plt.imshow(plt.imread(f'{PATH}valid/dogs/{imgFiles[0]}'))"
      ],
      "execution_count": 22,
      "outputs": [
        {
          "output_type": "stream",
          "text": [
            "data/dogscats/valid/dogs/dog.10974.jpg\n"
          ],
          "name": "stdout"
        },
        {
          "output_type": "execute_result",
          "data": {
            "text/plain": [
              "<matplotlib.image.AxesImage at 0x7fe9bad1fa90>"
            ]
          },
          "metadata": {
            "tags": []
          },
          "execution_count": 22
        },
        {
          "output_type": "display_data",
          "data": {
            "image/png": "[encoded data removed]",
            "text/plain": [
              "<matplotlib.figure.Figure at 0x7fe9bd539588>"
            ]
          },
          "metadata": {
            "tags": []
          }
        }
      ]
    },
    {
      "metadata": {
        "id": "82KeYUDEOSKF",
        "colab_type": "code",
        "colab": {
          "autoexec": {
            "startup": false,
            "wait_interval": 0
          },
          "base_uri": "https://localhost:8080/",
          "height": 34
        },
        "outputId": "7e5f22f6-752a-4c5d-ab5b-b06fd3f2c58f",
        "executionInfo": {
          "status": "ok",
          "timestamp": 1531344372775,
          "user_tz": 420,
          "elapsed": 581,
          "user": {
            "displayName": "Richard Kuo",
            "photoUrl": "//lh5.googleusercontent.com/-mCYqOH5oFtk/AAAAAAAAAAI/AAAAAAAAAy0/oPRMXjJYBdY/s50-c-k-no/photo.jpg",
            "userId": "100516856770490478928"
          }
        }
      },
      "cell_type": "code",
      "source": [
        "img.shape"
      ],
      "execution_count": 23,
      "outputs": [
        {
          "output_type": "execute_result",
          "data": {
            "text/plain": [
              "(290, 349, 3)"
            ]
          },
          "metadata": {
            "tags": []
          },
          "execution_count": 23
        }
      ]
    },
    {
      "metadata": {
        "id": "twCa2dlCLUMo",
        "colab_type": "code",
        "colab": {
          "autoexec": {
            "startup": false,
            "wait_interval": 0
          },
          "base_uri": "https://localhost:8080/",
          "height": 343
        },
        "outputId": "341decab-dc9f-4f6d-94a3-4584a2b5e4a2",
        "executionInfo": {
          "status": "ok",
          "timestamp": 1531344374565,
          "user_tz": 420,
          "elapsed": 391,
          "user": {
            "displayName": "Richard Kuo",
            "photoUrl": "//lh5.googleusercontent.com/-mCYqOH5oFtk/AAAAAAAAAAI/AAAAAAAAAy0/oPRMXjJYBdY/s50-c-k-no/photo.jpg",
            "userId": "100516856770490478928"
          }
        }
      },
      "cell_type": "code",
      "source": [
        "img[:4,:4]"
      ],
      "execution_count": 24,
      "outputs": [
        {
          "output_type": "execute_result",
          "data": {
            "text/plain": [
              "array([[[128, 161,  90],\n",
              "        [124, 157,  86],\n",
              "        [119, 152,  81],\n",
              "        [114, 147,  76]],\n",
              "\n",
              "       [[130, 163,  92],\n",
              "        [126, 159,  88],\n",
              "        [121, 154,  83],\n",
              "        [117, 150,  79]],\n",
              "\n",
              "       [[130, 164,  90],\n",
              "        [126, 160,  86],\n",
              "        [122, 156,  82],\n",
              "        [119, 150,  80]],\n",
              "\n",
              "       [[130, 162,  87],\n",
              "        [127, 159,  84],\n",
              "        [123, 155,  82],\n",
              "        [120, 152,  79]]], dtype=uint8)"
            ]
          },
          "metadata": {
            "tags": []
          },
          "execution_count": 24
        }
      ]
    },
    {
      "metadata": {
        "id": "2L88pCRby2EQ",
        "colab_type": "text"
      },
      "cell_type": "markdown",
      "source": [
        "## Train a Model"
      ]
    },
    {
      "metadata": {
        "id": "6DIkfHOMQdmr",
        "colab_type": "code",
        "colab": {
          "autoexec": {
            "startup": false,
            "wait_interval": 0
          },
          "base_uri": "https://localhost:8080/",
          "height": 140
        },
        "outputId": "25726813-4ca2-4f35-e526-68d6617c98d9",
        "executionInfo": {
          "status": "ok",
          "timestamp": 1531344399549,
          "user_tz": 420,
          "elapsed": 24325,
          "user": {
            "displayName": "Richard Kuo",
            "photoUrl": "//lh5.googleusercontent.com/-mCYqOH5oFtk/AAAAAAAAAAI/AAAAAAAAAy0/oPRMXjJYBdY/s50-c-k-no/photo.jpg",
            "userId": "100516856770490478928"
          }
        }
      },
      "cell_type": "code",
      "source": [
        "arch=resnet34\n",
        "data = ImageClassifierData.from_paths(PATH, tfms=tfms_from_model(arch, sz))\n",
        "learn = ConvLearner.pretrained(arch, data, precompute=True)\n",
        "learn.fit(0.01, 2)"
      ],
      "execution_count": 25,
      "outputs": [
        {
          "output_type": "display_data",
          "data": {
            "application/vnd.jupyter.widget-view+json": {
              "model_id": "3840250e9cd64a4fbd528e5cd4f32643",
              "version_minor": 0,
              "version_major": 2
            },
            "text/plain": [
              "HBox(children=(IntProgress(value=0, description='Epoch', max=2), HTML(value='')))"
            ]
          },
          "metadata": {
            "tags": []
          }
        },
        {
          "output_type": "stream",
          "text": [
            "epoch      trn_loss   val_loss   accuracy   \n",
            "    0      0.053442   0.029566   0.991     \n",
            "    1      0.055109   0.027019   0.9905    \n",
            "\n"
          ],
          "name": "stdout"
        },
        {
          "output_type": "execute_result",
          "data": {
            "text/plain": [
              "[array([0.02702]), 0.9905]"
            ]
          },
          "metadata": {
            "tags": []
          },
          "execution_count": 25
        }
      ]
    },
    {
      "metadata": {
        "id": "Z-ytdxg5VNJ3",
        "colab_type": "text"
      },
      "cell_type": "markdown",
      "source": [
        "Images will be transformed with  `tfms_from_model(arch, sz)` see discussion http://forums.fast.ai/t/how-sz-and-max-zoom-in-tfms-from-model-work/17484. We will need to specify the architecture and target size. "
      ]
    },
    {
      "metadata": {
        "id": "ujWlUkCWtqLz",
        "colab_type": "text"
      },
      "cell_type": "markdown",
      "source": [
        "Since we use ResNets34 as the architecture, let find out more about it. \n",
        "\n",
        "### Architecture \n",
        "![ResNets32](https://cdn-images-1.medium.com/max/2000/1*4tlPOipWjcwIoNUlQ6IWFQ.png)\n",
        "\n",
        "Some implements have made and results 34-layer Resideual Network.\n",
        "The building block\n",
        "![building block](https://cdn-images-1.medium.com/max/2000/1*tEaVn-9OEPCre0lmHAJWyw.png)"
      ]
    },
    {
      "metadata": {
        "id": "57w-0pCUALIf",
        "colab_type": "text"
      },
      "cell_type": "markdown",
      "source": [
        "#### Comparsion\n",
        "\n",
        "![cnn comparision](https://slideplayer.com/12039897/69/images/42/ResNet%3A+going+real+deep.jpg)"
      ]
    }
  ]
}